{
  "nbformat": 4,
  "nbformat_minor": 0,
  "metadata": {
    "colab": {
      "provenance": [],
      "toc_visible": true,
      "authorship_tag": "ABX9TyPBRj0Qs+Awz6SlAm2NDmru",
      "include_colab_link": true
    },
    "kernelspec": {
      "name": "python3",
      "display_name": "Python 3"
    },
    "language_info": {
      "name": "python"
    },
    "widgets": {
      "application/vnd.jupyter.widget-state+json": {
        "bad64962c2484913aa335541f60691c0": {
          "model_module": "@jupyter-widgets/controls",
          "model_name": "HBoxModel",
          "model_module_version": "1.5.0",
          "state": {
            "_dom_classes": [],
            "_model_module": "@jupyter-widgets/controls",
            "_model_module_version": "1.5.0",
            "_model_name": "HBoxModel",
            "_view_count": null,
            "_view_module": "@jupyter-widgets/controls",
            "_view_module_version": "1.5.0",
            "_view_name": "HBoxView",
            "box_style": "",
            "children": [
              "IPY_MODEL_bdf94e8d10864bd687dce27669b4baf0",
              "IPY_MODEL_c61c316e48f64829a60dbdf68bae783f",
              "IPY_MODEL_c9c0eb72c54a48c0b5b4e75860a2d220"
            ],
            "layout": "IPY_MODEL_87c025e1cb6f4c40b750018e43c9cdb3"
          }
        },
        "bdf94e8d10864bd687dce27669b4baf0": {
          "model_module": "@jupyter-widgets/controls",
          "model_name": "HTMLModel",
          "model_module_version": "1.5.0",
          "state": {
            "_dom_classes": [],
            "_model_module": "@jupyter-widgets/controls",
            "_model_module_version": "1.5.0",
            "_model_name": "HTMLModel",
            "_view_count": null,
            "_view_module": "@jupyter-widgets/controls",
            "_view_module_version": "1.5.0",
            "_view_name": "HTMLView",
            "description": "",
            "description_tooltip": null,
            "layout": "IPY_MODEL_f34a00d463de4a869c551b601f07edb9",
            "placeholder": "​",
            "style": "IPY_MODEL_90409dd71d9c431983705ebfb5f31bdb",
            "value": "model.safetensors: 100%"
          }
        },
        "c61c316e48f64829a60dbdf68bae783f": {
          "model_module": "@jupyter-widgets/controls",
          "model_name": "FloatProgressModel",
          "model_module_version": "1.5.0",
          "state": {
            "_dom_classes": [],
            "_model_module": "@jupyter-widgets/controls",
            "_model_module_version": "1.5.0",
            "_model_name": "FloatProgressModel",
            "_view_count": null,
            "_view_module": "@jupyter-widgets/controls",
            "_view_module_version": "1.5.0",
            "_view_name": "ProgressView",
            "bar_style": "success",
            "description": "",
            "description_tooltip": null,
            "layout": "IPY_MODEL_42a42ed669c8432b938718bd974aa51e",
            "max": 90868376,
            "min": 0,
            "orientation": "horizontal",
            "style": "IPY_MODEL_8a05bfe54fac47a2b6c521e5a3a95a88",
            "value": 90868376
          }
        },
        "c9c0eb72c54a48c0b5b4e75860a2d220": {
          "model_module": "@jupyter-widgets/controls",
          "model_name": "HTMLModel",
          "model_module_version": "1.5.0",
          "state": {
            "_dom_classes": [],
            "_model_module": "@jupyter-widgets/controls",
            "_model_module_version": "1.5.0",
            "_model_name": "HTMLModel",
            "_view_count": null,
            "_view_module": "@jupyter-widgets/controls",
            "_view_module_version": "1.5.0",
            "_view_name": "HTMLView",
            "description": "",
            "description_tooltip": null,
            "layout": "IPY_MODEL_6d874f02bb1948d088439fedb88cdfb8",
            "placeholder": "​",
            "style": "IPY_MODEL_3213088f306440a496a1d13654a43353",
            "value": " 90.9M/90.9M [00:00&lt;00:00, 193MB/s]"
          }
        },
        "87c025e1cb6f4c40b750018e43c9cdb3": {
          "model_module": "@jupyter-widgets/base",
          "model_name": "LayoutModel",
          "model_module_version": "1.2.0",
          "state": {
            "_model_module": "@jupyter-widgets/base",
            "_model_module_version": "1.2.0",
            "_model_name": "LayoutModel",
            "_view_count": null,
            "_view_module": "@jupyter-widgets/base",
            "_view_module_version": "1.2.0",
            "_view_name": "LayoutView",
            "align_content": null,
            "align_items": null,
            "align_self": null,
            "border": null,
            "bottom": null,
            "display": null,
            "flex": null,
            "flex_flow": null,
            "grid_area": null,
            "grid_auto_columns": null,
            "grid_auto_flow": null,
            "grid_auto_rows": null,
            "grid_column": null,
            "grid_gap": null,
            "grid_row": null,
            "grid_template_areas": null,
            "grid_template_columns": null,
            "grid_template_rows": null,
            "height": null,
            "justify_content": null,
            "justify_items": null,
            "left": null,
            "margin": null,
            "max_height": null,
            "max_width": null,
            "min_height": null,
            "min_width": null,
            "object_fit": null,
            "object_position": null,
            "order": null,
            "overflow": null,
            "overflow_x": null,
            "overflow_y": null,
            "padding": null,
            "right": null,
            "top": null,
            "visibility": null,
            "width": null
          }
        },
        "f34a00d463de4a869c551b601f07edb9": {
          "model_module": "@jupyter-widgets/base",
          "model_name": "LayoutModel",
          "model_module_version": "1.2.0",
          "state": {
            "_model_module": "@jupyter-widgets/base",
            "_model_module_version": "1.2.0",
            "_model_name": "LayoutModel",
            "_view_count": null,
            "_view_module": "@jupyter-widgets/base",
            "_view_module_version": "1.2.0",
            "_view_name": "LayoutView",
            "align_content": null,
            "align_items": null,
            "align_self": null,
            "border": null,
            "bottom": null,
            "display": null,
            "flex": null,
            "flex_flow": null,
            "grid_area": null,
            "grid_auto_columns": null,
            "grid_auto_flow": null,
            "grid_auto_rows": null,
            "grid_column": null,
            "grid_gap": null,
            "grid_row": null,
            "grid_template_areas": null,
            "grid_template_columns": null,
            "grid_template_rows": null,
            "height": null,
            "justify_content": null,
            "justify_items": null,
            "left": null,
            "margin": null,
            "max_height": null,
            "max_width": null,
            "min_height": null,
            "min_width": null,
            "object_fit": null,
            "object_position": null,
            "order": null,
            "overflow": null,
            "overflow_x": null,
            "overflow_y": null,
            "padding": null,
            "right": null,
            "top": null,
            "visibility": null,
            "width": null
          }
        },
        "90409dd71d9c431983705ebfb5f31bdb": {
          "model_module": "@jupyter-widgets/controls",
          "model_name": "DescriptionStyleModel",
          "model_module_version": "1.5.0",
          "state": {
            "_model_module": "@jupyter-widgets/controls",
            "_model_module_version": "1.5.0",
            "_model_name": "DescriptionStyleModel",
            "_view_count": null,
            "_view_module": "@jupyter-widgets/base",
            "_view_module_version": "1.2.0",
            "_view_name": "StyleView",
            "description_width": ""
          }
        },
        "42a42ed669c8432b938718bd974aa51e": {
          "model_module": "@jupyter-widgets/base",
          "model_name": "LayoutModel",
          "model_module_version": "1.2.0",
          "state": {
            "_model_module": "@jupyter-widgets/base",
            "_model_module_version": "1.2.0",
            "_model_name": "LayoutModel",
            "_view_count": null,
            "_view_module": "@jupyter-widgets/base",
            "_view_module_version": "1.2.0",
            "_view_name": "LayoutView",
            "align_content": null,
            "align_items": null,
            "align_self": null,
            "border": null,
            "bottom": null,
            "display": null,
            "flex": null,
            "flex_flow": null,
            "grid_area": null,
            "grid_auto_columns": null,
            "grid_auto_flow": null,
            "grid_auto_rows": null,
            "grid_column": null,
            "grid_gap": null,
            "grid_row": null,
            "grid_template_areas": null,
            "grid_template_columns": null,
            "grid_template_rows": null,
            "height": null,
            "justify_content": null,
            "justify_items": null,
            "left": null,
            "margin": null,
            "max_height": null,
            "max_width": null,
            "min_height": null,
            "min_width": null,
            "object_fit": null,
            "object_position": null,
            "order": null,
            "overflow": null,
            "overflow_x": null,
            "overflow_y": null,
            "padding": null,
            "right": null,
            "top": null,
            "visibility": null,
            "width": null
          }
        },
        "8a05bfe54fac47a2b6c521e5a3a95a88": {
          "model_module": "@jupyter-widgets/controls",
          "model_name": "ProgressStyleModel",
          "model_module_version": "1.5.0",
          "state": {
            "_model_module": "@jupyter-widgets/controls",
            "_model_module_version": "1.5.0",
            "_model_name": "ProgressStyleModel",
            "_view_count": null,
            "_view_module": "@jupyter-widgets/base",
            "_view_module_version": "1.2.0",
            "_view_name": "StyleView",
            "bar_color": null,
            "description_width": ""
          }
        },
        "6d874f02bb1948d088439fedb88cdfb8": {
          "model_module": "@jupyter-widgets/base",
          "model_name": "LayoutModel",
          "model_module_version": "1.2.0",
          "state": {
            "_model_module": "@jupyter-widgets/base",
            "_model_module_version": "1.2.0",
            "_model_name": "LayoutModel",
            "_view_count": null,
            "_view_module": "@jupyter-widgets/base",
            "_view_module_version": "1.2.0",
            "_view_name": "LayoutView",
            "align_content": null,
            "align_items": null,
            "align_self": null,
            "border": null,
            "bottom": null,
            "display": null,
            "flex": null,
            "flex_flow": null,
            "grid_area": null,
            "grid_auto_columns": null,
            "grid_auto_flow": null,
            "grid_auto_rows": null,
            "grid_column": null,
            "grid_gap": null,
            "grid_row": null,
            "grid_template_areas": null,
            "grid_template_columns": null,
            "grid_template_rows": null,
            "height": null,
            "justify_content": null,
            "justify_items": null,
            "left": null,
            "margin": null,
            "max_height": null,
            "max_width": null,
            "min_height": null,
            "min_width": null,
            "object_fit": null,
            "object_position": null,
            "order": null,
            "overflow": null,
            "overflow_x": null,
            "overflow_y": null,
            "padding": null,
            "right": null,
            "top": null,
            "visibility": null,
            "width": null
          }
        },
        "3213088f306440a496a1d13654a43353": {
          "model_module": "@jupyter-widgets/controls",
          "model_name": "DescriptionStyleModel",
          "model_module_version": "1.5.0",
          "state": {
            "_model_module": "@jupyter-widgets/controls",
            "_model_module_version": "1.5.0",
            "_model_name": "DescriptionStyleModel",
            "_view_count": null,
            "_view_module": "@jupyter-widgets/base",
            "_view_module_version": "1.2.0",
            "_view_name": "StyleView",
            "description_width": ""
          }
        },
        "0a7c1cd78aab46c09e2e4cd6c8dca4bd": {
          "model_module": "@jupyter-widgets/controls",
          "model_name": "HBoxModel",
          "model_module_version": "1.5.0",
          "state": {
            "_dom_classes": [],
            "_model_module": "@jupyter-widgets/controls",
            "_model_module_version": "1.5.0",
            "_model_name": "HBoxModel",
            "_view_count": null,
            "_view_module": "@jupyter-widgets/controls",
            "_view_module_version": "1.5.0",
            "_view_name": "HBoxView",
            "box_style": "",
            "children": [
              "IPY_MODEL_758bf0d101a3470f830fb4c3cf15dfe4",
              "IPY_MODEL_88f89442e65f4d28bbc58c5edc50c150",
              "IPY_MODEL_a14f05452ec349ceb36e09ad1bdf2a3e"
            ],
            "layout": "IPY_MODEL_109b84b9a4594f7a84e66253c68ddeed"
          }
        },
        "758bf0d101a3470f830fb4c3cf15dfe4": {
          "model_module": "@jupyter-widgets/controls",
          "model_name": "HTMLModel",
          "model_module_version": "1.5.0",
          "state": {
            "_dom_classes": [],
            "_model_module": "@jupyter-widgets/controls",
            "_model_module_version": "1.5.0",
            "_model_name": "HTMLModel",
            "_view_count": null,
            "_view_module": "@jupyter-widgets/controls",
            "_view_module_version": "1.5.0",
            "_view_name": "HTMLView",
            "description": "",
            "description_tooltip": null,
            "layout": "IPY_MODEL_989ce8b3d74a401ebbba4a5abce0403e",
            "placeholder": "​",
            "style": "IPY_MODEL_b217dc6eb59847f78528670c597e5cb2",
            "value": "tokenizer_config.json: 100%"
          }
        },
        "88f89442e65f4d28bbc58c5edc50c150": {
          "model_module": "@jupyter-widgets/controls",
          "model_name": "FloatProgressModel",
          "model_module_version": "1.5.0",
          "state": {
            "_dom_classes": [],
            "_model_module": "@jupyter-widgets/controls",
            "_model_module_version": "1.5.0",
            "_model_name": "FloatProgressModel",
            "_view_count": null,
            "_view_module": "@jupyter-widgets/controls",
            "_view_module_version": "1.5.0",
            "_view_name": "ProgressView",
            "bar_style": "success",
            "description": "",
            "description_tooltip": null,
            "layout": "IPY_MODEL_78037ab4f5b04228bf7ea0cae012cd76",
            "max": 350,
            "min": 0,
            "orientation": "horizontal",
            "style": "IPY_MODEL_1fb81695629a4be2860a07506c0e951a",
            "value": 350
          }
        },
        "a14f05452ec349ceb36e09ad1bdf2a3e": {
          "model_module": "@jupyter-widgets/controls",
          "model_name": "HTMLModel",
          "model_module_version": "1.5.0",
          "state": {
            "_dom_classes": [],
            "_model_module": "@jupyter-widgets/controls",
            "_model_module_version": "1.5.0",
            "_model_name": "HTMLModel",
            "_view_count": null,
            "_view_module": "@jupyter-widgets/controls",
            "_view_module_version": "1.5.0",
            "_view_name": "HTMLView",
            "description": "",
            "description_tooltip": null,
            "layout": "IPY_MODEL_ac35e6d3a8654a1795d40fe78bbe080b",
            "placeholder": "​",
            "style": "IPY_MODEL_35c1558cae6f464fb116dbd2bd6a9488",
            "value": " 350/350 [00:00&lt;00:00, 17.1kB/s]"
          }
        },
        "109b84b9a4594f7a84e66253c68ddeed": {
          "model_module": "@jupyter-widgets/base",
          "model_name": "LayoutModel",
          "model_module_version": "1.2.0",
          "state": {
            "_model_module": "@jupyter-widgets/base",
            "_model_module_version": "1.2.0",
            "_model_name": "LayoutModel",
            "_view_count": null,
            "_view_module": "@jupyter-widgets/base",
            "_view_module_version": "1.2.0",
            "_view_name": "LayoutView",
            "align_content": null,
            "align_items": null,
            "align_self": null,
            "border": null,
            "bottom": null,
            "display": null,
            "flex": null,
            "flex_flow": null,
            "grid_area": null,
            "grid_auto_columns": null,
            "grid_auto_flow": null,
            "grid_auto_rows": null,
            "grid_column": null,
            "grid_gap": null,
            "grid_row": null,
            "grid_template_areas": null,
            "grid_template_columns": null,
            "grid_template_rows": null,
            "height": null,
            "justify_content": null,
            "justify_items": null,
            "left": null,
            "margin": null,
            "max_height": null,
            "max_width": null,
            "min_height": null,
            "min_width": null,
            "object_fit": null,
            "object_position": null,
            "order": null,
            "overflow": null,
            "overflow_x": null,
            "overflow_y": null,
            "padding": null,
            "right": null,
            "top": null,
            "visibility": null,
            "width": null
          }
        },
        "989ce8b3d74a401ebbba4a5abce0403e": {
          "model_module": "@jupyter-widgets/base",
          "model_name": "LayoutModel",
          "model_module_version": "1.2.0",
          "state": {
            "_model_module": "@jupyter-widgets/base",
            "_model_module_version": "1.2.0",
            "_model_name": "LayoutModel",
            "_view_count": null,
            "_view_module": "@jupyter-widgets/base",
            "_view_module_version": "1.2.0",
            "_view_name": "LayoutView",
            "align_content": null,
            "align_items": null,
            "align_self": null,
            "border": null,
            "bottom": null,
            "display": null,
            "flex": null,
            "flex_flow": null,
            "grid_area": null,
            "grid_auto_columns": null,
            "grid_auto_flow": null,
            "grid_auto_rows": null,
            "grid_column": null,
            "grid_gap": null,
            "grid_row": null,
            "grid_template_areas": null,
            "grid_template_columns": null,
            "grid_template_rows": null,
            "height": null,
            "justify_content": null,
            "justify_items": null,
            "left": null,
            "margin": null,
            "max_height": null,
            "max_width": null,
            "min_height": null,
            "min_width": null,
            "object_fit": null,
            "object_position": null,
            "order": null,
            "overflow": null,
            "overflow_x": null,
            "overflow_y": null,
            "padding": null,
            "right": null,
            "top": null,
            "visibility": null,
            "width": null
          }
        },
        "b217dc6eb59847f78528670c597e5cb2": {
          "model_module": "@jupyter-widgets/controls",
          "model_name": "DescriptionStyleModel",
          "model_module_version": "1.5.0",
          "state": {
            "_model_module": "@jupyter-widgets/controls",
            "_model_module_version": "1.5.0",
            "_model_name": "DescriptionStyleModel",
            "_view_count": null,
            "_view_module": "@jupyter-widgets/base",
            "_view_module_version": "1.2.0",
            "_view_name": "StyleView",
            "description_width": ""
          }
        },
        "78037ab4f5b04228bf7ea0cae012cd76": {
          "model_module": "@jupyter-widgets/base",
          "model_name": "LayoutModel",
          "model_module_version": "1.2.0",
          "state": {
            "_model_module": "@jupyter-widgets/base",
            "_model_module_version": "1.2.0",
            "_model_name": "LayoutModel",
            "_view_count": null,
            "_view_module": "@jupyter-widgets/base",
            "_view_module_version": "1.2.0",
            "_view_name": "LayoutView",
            "align_content": null,
            "align_items": null,
            "align_self": null,
            "border": null,
            "bottom": null,
            "display": null,
            "flex": null,
            "flex_flow": null,
            "grid_area": null,
            "grid_auto_columns": null,
            "grid_auto_flow": null,
            "grid_auto_rows": null,
            "grid_column": null,
            "grid_gap": null,
            "grid_row": null,
            "grid_template_areas": null,
            "grid_template_columns": null,
            "grid_template_rows": null,
            "height": null,
            "justify_content": null,
            "justify_items": null,
            "left": null,
            "margin": null,
            "max_height": null,
            "max_width": null,
            "min_height": null,
            "min_width": null,
            "object_fit": null,
            "object_position": null,
            "order": null,
            "overflow": null,
            "overflow_x": null,
            "overflow_y": null,
            "padding": null,
            "right": null,
            "top": null,
            "visibility": null,
            "width": null
          }
        },
        "1fb81695629a4be2860a07506c0e951a": {
          "model_module": "@jupyter-widgets/controls",
          "model_name": "ProgressStyleModel",
          "model_module_version": "1.5.0",
          "state": {
            "_model_module": "@jupyter-widgets/controls",
            "_model_module_version": "1.5.0",
            "_model_name": "ProgressStyleModel",
            "_view_count": null,
            "_view_module": "@jupyter-widgets/base",
            "_view_module_version": "1.2.0",
            "_view_name": "StyleView",
            "bar_color": null,
            "description_width": ""
          }
        },
        "ac35e6d3a8654a1795d40fe78bbe080b": {
          "model_module": "@jupyter-widgets/base",
          "model_name": "LayoutModel",
          "model_module_version": "1.2.0",
          "state": {
            "_model_module": "@jupyter-widgets/base",
            "_model_module_version": "1.2.0",
            "_model_name": "LayoutModel",
            "_view_count": null,
            "_view_module": "@jupyter-widgets/base",
            "_view_module_version": "1.2.0",
            "_view_name": "LayoutView",
            "align_content": null,
            "align_items": null,
            "align_self": null,
            "border": null,
            "bottom": null,
            "display": null,
            "flex": null,
            "flex_flow": null,
            "grid_area": null,
            "grid_auto_columns": null,
            "grid_auto_flow": null,
            "grid_auto_rows": null,
            "grid_column": null,
            "grid_gap": null,
            "grid_row": null,
            "grid_template_areas": null,
            "grid_template_columns": null,
            "grid_template_rows": null,
            "height": null,
            "justify_content": null,
            "justify_items": null,
            "left": null,
            "margin": null,
            "max_height": null,
            "max_width": null,
            "min_height": null,
            "min_width": null,
            "object_fit": null,
            "object_position": null,
            "order": null,
            "overflow": null,
            "overflow_x": null,
            "overflow_y": null,
            "padding": null,
            "right": null,
            "top": null,
            "visibility": null,
            "width": null
          }
        },
        "35c1558cae6f464fb116dbd2bd6a9488": {
          "model_module": "@jupyter-widgets/controls",
          "model_name": "DescriptionStyleModel",
          "model_module_version": "1.5.0",
          "state": {
            "_model_module": "@jupyter-widgets/controls",
            "_model_module_version": "1.5.0",
            "_model_name": "DescriptionStyleModel",
            "_view_count": null,
            "_view_module": "@jupyter-widgets/base",
            "_view_module_version": "1.2.0",
            "_view_name": "StyleView",
            "description_width": ""
          }
        },
        "95b4b3bdc9284e7ea8694e88250b4ce8": {
          "model_module": "@jupyter-widgets/controls",
          "model_name": "HBoxModel",
          "model_module_version": "1.5.0",
          "state": {
            "_dom_classes": [],
            "_model_module": "@jupyter-widgets/controls",
            "_model_module_version": "1.5.0",
            "_model_name": "HBoxModel",
            "_view_count": null,
            "_view_module": "@jupyter-widgets/controls",
            "_view_module_version": "1.5.0",
            "_view_name": "HBoxView",
            "box_style": "",
            "children": [
              "IPY_MODEL_887c259264854f718e5ddcfd856a08ae",
              "IPY_MODEL_01d856f6e68f4854837397dcf96dc965",
              "IPY_MODEL_3782dc23a38e49f3b782e8ebe326b1f5"
            ],
            "layout": "IPY_MODEL_998c5a95e987417d9688ca09ef0f984e"
          }
        },
        "887c259264854f718e5ddcfd856a08ae": {
          "model_module": "@jupyter-widgets/controls",
          "model_name": "HTMLModel",
          "model_module_version": "1.5.0",
          "state": {
            "_dom_classes": [],
            "_model_module": "@jupyter-widgets/controls",
            "_model_module_version": "1.5.0",
            "_model_name": "HTMLModel",
            "_view_count": null,
            "_view_module": "@jupyter-widgets/controls",
            "_view_module_version": "1.5.0",
            "_view_name": "HTMLView",
            "description": "",
            "description_tooltip": null,
            "layout": "IPY_MODEL_a30778e3e1b4470f88093ec8600f7af1",
            "placeholder": "​",
            "style": "IPY_MODEL_c0e28a04323541d4987e91d41635444d",
            "value": "vocab.txt: 100%"
          }
        },
        "01d856f6e68f4854837397dcf96dc965": {
          "model_module": "@jupyter-widgets/controls",
          "model_name": "FloatProgressModel",
          "model_module_version": "1.5.0",
          "state": {
            "_dom_classes": [],
            "_model_module": "@jupyter-widgets/controls",
            "_model_module_version": "1.5.0",
            "_model_name": "FloatProgressModel",
            "_view_count": null,
            "_view_module": "@jupyter-widgets/controls",
            "_view_module_version": "1.5.0",
            "_view_name": "ProgressView",
            "bar_style": "success",
            "description": "",
            "description_tooltip": null,
            "layout": "IPY_MODEL_2c1ca43257c54d2e92beefaf5ee0a13b",
            "max": 231508,
            "min": 0,
            "orientation": "horizontal",
            "style": "IPY_MODEL_42565566f63141549e778907fc47a9c6",
            "value": 231508
          }
        },
        "3782dc23a38e49f3b782e8ebe326b1f5": {
          "model_module": "@jupyter-widgets/controls",
          "model_name": "HTMLModel",
          "model_module_version": "1.5.0",
          "state": {
            "_dom_classes": [],
            "_model_module": "@jupyter-widgets/controls",
            "_model_module_version": "1.5.0",
            "_model_name": "HTMLModel",
            "_view_count": null,
            "_view_module": "@jupyter-widgets/controls",
            "_view_module_version": "1.5.0",
            "_view_name": "HTMLView",
            "description": "",
            "description_tooltip": null,
            "layout": "IPY_MODEL_20f0d718ad3a400a9f9003fe714b1088",
            "placeholder": "​",
            "style": "IPY_MODEL_d65c914fe4674eef9be5576b2ded74cd",
            "value": " 232k/232k [00:00&lt;00:00, 3.14MB/s]"
          }
        },
        "998c5a95e987417d9688ca09ef0f984e": {
          "model_module": "@jupyter-widgets/base",
          "model_name": "LayoutModel",
          "model_module_version": "1.2.0",
          "state": {
            "_model_module": "@jupyter-widgets/base",
            "_model_module_version": "1.2.0",
            "_model_name": "LayoutModel",
            "_view_count": null,
            "_view_module": "@jupyter-widgets/base",
            "_view_module_version": "1.2.0",
            "_view_name": "LayoutView",
            "align_content": null,
            "align_items": null,
            "align_self": null,
            "border": null,
            "bottom": null,
            "display": null,
            "flex": null,
            "flex_flow": null,
            "grid_area": null,
            "grid_auto_columns": null,
            "grid_auto_flow": null,
            "grid_auto_rows": null,
            "grid_column": null,
            "grid_gap": null,
            "grid_row": null,
            "grid_template_areas": null,
            "grid_template_columns": null,
            "grid_template_rows": null,
            "height": null,
            "justify_content": null,
            "justify_items": null,
            "left": null,
            "margin": null,
            "max_height": null,
            "max_width": null,
            "min_height": null,
            "min_width": null,
            "object_fit": null,
            "object_position": null,
            "order": null,
            "overflow": null,
            "overflow_x": null,
            "overflow_y": null,
            "padding": null,
            "right": null,
            "top": null,
            "visibility": null,
            "width": null
          }
        },
        "a30778e3e1b4470f88093ec8600f7af1": {
          "model_module": "@jupyter-widgets/base",
          "model_name": "LayoutModel",
          "model_module_version": "1.2.0",
          "state": {
            "_model_module": "@jupyter-widgets/base",
            "_model_module_version": "1.2.0",
            "_model_name": "LayoutModel",
            "_view_count": null,
            "_view_module": "@jupyter-widgets/base",
            "_view_module_version": "1.2.0",
            "_view_name": "LayoutView",
            "align_content": null,
            "align_items": null,
            "align_self": null,
            "border": null,
            "bottom": null,
            "display": null,
            "flex": null,
            "flex_flow": null,
            "grid_area": null,
            "grid_auto_columns": null,
            "grid_auto_flow": null,
            "grid_auto_rows": null,
            "grid_column": null,
            "grid_gap": null,
            "grid_row": null,
            "grid_template_areas": null,
            "grid_template_columns": null,
            "grid_template_rows": null,
            "height": null,
            "justify_content": null,
            "justify_items": null,
            "left": null,
            "margin": null,
            "max_height": null,
            "max_width": null,
            "min_height": null,
            "min_width": null,
            "object_fit": null,
            "object_position": null,
            "order": null,
            "overflow": null,
            "overflow_x": null,
            "overflow_y": null,
            "padding": null,
            "right": null,
            "top": null,
            "visibility": null,
            "width": null
          }
        },
        "c0e28a04323541d4987e91d41635444d": {
          "model_module": "@jupyter-widgets/controls",
          "model_name": "DescriptionStyleModel",
          "model_module_version": "1.5.0",
          "state": {
            "_model_module": "@jupyter-widgets/controls",
            "_model_module_version": "1.5.0",
            "_model_name": "DescriptionStyleModel",
            "_view_count": null,
            "_view_module": "@jupyter-widgets/base",
            "_view_module_version": "1.2.0",
            "_view_name": "StyleView",
            "description_width": ""
          }
        },
        "2c1ca43257c54d2e92beefaf5ee0a13b": {
          "model_module": "@jupyter-widgets/base",
          "model_name": "LayoutModel",
          "model_module_version": "1.2.0",
          "state": {
            "_model_module": "@jupyter-widgets/base",
            "_model_module_version": "1.2.0",
            "_model_name": "LayoutModel",
            "_view_count": null,
            "_view_module": "@jupyter-widgets/base",
            "_view_module_version": "1.2.0",
            "_view_name": "LayoutView",
            "align_content": null,
            "align_items": null,
            "align_self": null,
            "border": null,
            "bottom": null,
            "display": null,
            "flex": null,
            "flex_flow": null,
            "grid_area": null,
            "grid_auto_columns": null,
            "grid_auto_flow": null,
            "grid_auto_rows": null,
            "grid_column": null,
            "grid_gap": null,
            "grid_row": null,
            "grid_template_areas": null,
            "grid_template_columns": null,
            "grid_template_rows": null,
            "height": null,
            "justify_content": null,
            "justify_items": null,
            "left": null,
            "margin": null,
            "max_height": null,
            "max_width": null,
            "min_height": null,
            "min_width": null,
            "object_fit": null,
            "object_position": null,
            "order": null,
            "overflow": null,
            "overflow_x": null,
            "overflow_y": null,
            "padding": null,
            "right": null,
            "top": null,
            "visibility": null,
            "width": null
          }
        },
        "42565566f63141549e778907fc47a9c6": {
          "model_module": "@jupyter-widgets/controls",
          "model_name": "ProgressStyleModel",
          "model_module_version": "1.5.0",
          "state": {
            "_model_module": "@jupyter-widgets/controls",
            "_model_module_version": "1.5.0",
            "_model_name": "ProgressStyleModel",
            "_view_count": null,
            "_view_module": "@jupyter-widgets/base",
            "_view_module_version": "1.2.0",
            "_view_name": "StyleView",
            "bar_color": null,
            "description_width": ""
          }
        },
        "20f0d718ad3a400a9f9003fe714b1088": {
          "model_module": "@jupyter-widgets/base",
          "model_name": "LayoutModel",
          "model_module_version": "1.2.0",
          "state": {
            "_model_module": "@jupyter-widgets/base",
            "_model_module_version": "1.2.0",
            "_model_name": "LayoutModel",
            "_view_count": null,
            "_view_module": "@jupyter-widgets/base",
            "_view_module_version": "1.2.0",
            "_view_name": "LayoutView",
            "align_content": null,
            "align_items": null,
            "align_self": null,
            "border": null,
            "bottom": null,
            "display": null,
            "flex": null,
            "flex_flow": null,
            "grid_area": null,
            "grid_auto_columns": null,
            "grid_auto_flow": null,
            "grid_auto_rows": null,
            "grid_column": null,
            "grid_gap": null,
            "grid_row": null,
            "grid_template_areas": null,
            "grid_template_columns": null,
            "grid_template_rows": null,
            "height": null,
            "justify_content": null,
            "justify_items": null,
            "left": null,
            "margin": null,
            "max_height": null,
            "max_width": null,
            "min_height": null,
            "min_width": null,
            "object_fit": null,
            "object_position": null,
            "order": null,
            "overflow": null,
            "overflow_x": null,
            "overflow_y": null,
            "padding": null,
            "right": null,
            "top": null,
            "visibility": null,
            "width": null
          }
        },
        "d65c914fe4674eef9be5576b2ded74cd": {
          "model_module": "@jupyter-widgets/controls",
          "model_name": "DescriptionStyleModel",
          "model_module_version": "1.5.0",
          "state": {
            "_model_module": "@jupyter-widgets/controls",
            "_model_module_version": "1.5.0",
            "_model_name": "DescriptionStyleModel",
            "_view_count": null,
            "_view_module": "@jupyter-widgets/base",
            "_view_module_version": "1.2.0",
            "_view_name": "StyleView",
            "description_width": ""
          }
        },
        "271da0242f49409fae7f79f24cb8a5a8": {
          "model_module": "@jupyter-widgets/controls",
          "model_name": "HBoxModel",
          "model_module_version": "1.5.0",
          "state": {
            "_dom_classes": [],
            "_model_module": "@jupyter-widgets/controls",
            "_model_module_version": "1.5.0",
            "_model_name": "HBoxModel",
            "_view_count": null,
            "_view_module": "@jupyter-widgets/controls",
            "_view_module_version": "1.5.0",
            "_view_name": "HBoxView",
            "box_style": "",
            "children": [
              "IPY_MODEL_b8e3d385afd24e389369d2645fea38c0",
              "IPY_MODEL_4742bd2a5b8e468da1d506729849379e",
              "IPY_MODEL_9b3b91c49b9b4bda9e21a4d88f25aa18"
            ],
            "layout": "IPY_MODEL_5bfdb3d3dffe42eb9f53655261fc52d5"
          }
        },
        "b8e3d385afd24e389369d2645fea38c0": {
          "model_module": "@jupyter-widgets/controls",
          "model_name": "HTMLModel",
          "model_module_version": "1.5.0",
          "state": {
            "_dom_classes": [],
            "_model_module": "@jupyter-widgets/controls",
            "_model_module_version": "1.5.0",
            "_model_name": "HTMLModel",
            "_view_count": null,
            "_view_module": "@jupyter-widgets/controls",
            "_view_module_version": "1.5.0",
            "_view_name": "HTMLView",
            "description": "",
            "description_tooltip": null,
            "layout": "IPY_MODEL_e764a92f371549d6ac1f4344d825f851",
            "placeholder": "​",
            "style": "IPY_MODEL_50e46e9a56074ba48355f1b8e124f53f",
            "value": "tokenizer.json: 100%"
          }
        },
        "4742bd2a5b8e468da1d506729849379e": {
          "model_module": "@jupyter-widgets/controls",
          "model_name": "FloatProgressModel",
          "model_module_version": "1.5.0",
          "state": {
            "_dom_classes": [],
            "_model_module": "@jupyter-widgets/controls",
            "_model_module_version": "1.5.0",
            "_model_name": "FloatProgressModel",
            "_view_count": null,
            "_view_module": "@jupyter-widgets/controls",
            "_view_module_version": "1.5.0",
            "_view_name": "ProgressView",
            "bar_style": "success",
            "description": "",
            "description_tooltip": null,
            "layout": "IPY_MODEL_28156d188b334fe4b6115733c3e15e61",
            "max": 466247,
            "min": 0,
            "orientation": "horizontal",
            "style": "IPY_MODEL_eb2ba2367def4df2a840c263f530373d",
            "value": 466247
          }
        },
        "9b3b91c49b9b4bda9e21a4d88f25aa18": {
          "model_module": "@jupyter-widgets/controls",
          "model_name": "HTMLModel",
          "model_module_version": "1.5.0",
          "state": {
            "_dom_classes": [],
            "_model_module": "@jupyter-widgets/controls",
            "_model_module_version": "1.5.0",
            "_model_name": "HTMLModel",
            "_view_count": null,
            "_view_module": "@jupyter-widgets/controls",
            "_view_module_version": "1.5.0",
            "_view_name": "HTMLView",
            "description": "",
            "description_tooltip": null,
            "layout": "IPY_MODEL_0ac105309d264dfd9ffad96f0b9fb810",
            "placeholder": "​",
            "style": "IPY_MODEL_02bb2d7d60aa4108b83b778b600fe1dd",
            "value": " 466k/466k [00:00&lt;00:00, 3.50MB/s]"
          }
        },
        "5bfdb3d3dffe42eb9f53655261fc52d5": {
          "model_module": "@jupyter-widgets/base",
          "model_name": "LayoutModel",
          "model_module_version": "1.2.0",
          "state": {
            "_model_module": "@jupyter-widgets/base",
            "_model_module_version": "1.2.0",
            "_model_name": "LayoutModel",
            "_view_count": null,
            "_view_module": "@jupyter-widgets/base",
            "_view_module_version": "1.2.0",
            "_view_name": "LayoutView",
            "align_content": null,
            "align_items": null,
            "align_self": null,
            "border": null,
            "bottom": null,
            "display": null,
            "flex": null,
            "flex_flow": null,
            "grid_area": null,
            "grid_auto_columns": null,
            "grid_auto_flow": null,
            "grid_auto_rows": null,
            "grid_column": null,
            "grid_gap": null,
            "grid_row": null,
            "grid_template_areas": null,
            "grid_template_columns": null,
            "grid_template_rows": null,
            "height": null,
            "justify_content": null,
            "justify_items": null,
            "left": null,
            "margin": null,
            "max_height": null,
            "max_width": null,
            "min_height": null,
            "min_width": null,
            "object_fit": null,
            "object_position": null,
            "order": null,
            "overflow": null,
            "overflow_x": null,
            "overflow_y": null,
            "padding": null,
            "right": null,
            "top": null,
            "visibility": null,
            "width": null
          }
        },
        "e764a92f371549d6ac1f4344d825f851": {
          "model_module": "@jupyter-widgets/base",
          "model_name": "LayoutModel",
          "model_module_version": "1.2.0",
          "state": {
            "_model_module": "@jupyter-widgets/base",
            "_model_module_version": "1.2.0",
            "_model_name": "LayoutModel",
            "_view_count": null,
            "_view_module": "@jupyter-widgets/base",
            "_view_module_version": "1.2.0",
            "_view_name": "LayoutView",
            "align_content": null,
            "align_items": null,
            "align_self": null,
            "border": null,
            "bottom": null,
            "display": null,
            "flex": null,
            "flex_flow": null,
            "grid_area": null,
            "grid_auto_columns": null,
            "grid_auto_flow": null,
            "grid_auto_rows": null,
            "grid_column": null,
            "grid_gap": null,
            "grid_row": null,
            "grid_template_areas": null,
            "grid_template_columns": null,
            "grid_template_rows": null,
            "height": null,
            "justify_content": null,
            "justify_items": null,
            "left": null,
            "margin": null,
            "max_height": null,
            "max_width": null,
            "min_height": null,
            "min_width": null,
            "object_fit": null,
            "object_position": null,
            "order": null,
            "overflow": null,
            "overflow_x": null,
            "overflow_y": null,
            "padding": null,
            "right": null,
            "top": null,
            "visibility": null,
            "width": null
          }
        },
        "50e46e9a56074ba48355f1b8e124f53f": {
          "model_module": "@jupyter-widgets/controls",
          "model_name": "DescriptionStyleModel",
          "model_module_version": "1.5.0",
          "state": {
            "_model_module": "@jupyter-widgets/controls",
            "_model_module_version": "1.5.0",
            "_model_name": "DescriptionStyleModel",
            "_view_count": null,
            "_view_module": "@jupyter-widgets/base",
            "_view_module_version": "1.2.0",
            "_view_name": "StyleView",
            "description_width": ""
          }
        },
        "28156d188b334fe4b6115733c3e15e61": {
          "model_module": "@jupyter-widgets/base",
          "model_name": "LayoutModel",
          "model_module_version": "1.2.0",
          "state": {
            "_model_module": "@jupyter-widgets/base",
            "_model_module_version": "1.2.0",
            "_model_name": "LayoutModel",
            "_view_count": null,
            "_view_module": "@jupyter-widgets/base",
            "_view_module_version": "1.2.0",
            "_view_name": "LayoutView",
            "align_content": null,
            "align_items": null,
            "align_self": null,
            "border": null,
            "bottom": null,
            "display": null,
            "flex": null,
            "flex_flow": null,
            "grid_area": null,
            "grid_auto_columns": null,
            "grid_auto_flow": null,
            "grid_auto_rows": null,
            "grid_column": null,
            "grid_gap": null,
            "grid_row": null,
            "grid_template_areas": null,
            "grid_template_columns": null,
            "grid_template_rows": null,
            "height": null,
            "justify_content": null,
            "justify_items": null,
            "left": null,
            "margin": null,
            "max_height": null,
            "max_width": null,
            "min_height": null,
            "min_width": null,
            "object_fit": null,
            "object_position": null,
            "order": null,
            "overflow": null,
            "overflow_x": null,
            "overflow_y": null,
            "padding": null,
            "right": null,
            "top": null,
            "visibility": null,
            "width": null
          }
        },
        "eb2ba2367def4df2a840c263f530373d": {
          "model_module": "@jupyter-widgets/controls",
          "model_name": "ProgressStyleModel",
          "model_module_version": "1.5.0",
          "state": {
            "_model_module": "@jupyter-widgets/controls",
            "_model_module_version": "1.5.0",
            "_model_name": "ProgressStyleModel",
            "_view_count": null,
            "_view_module": "@jupyter-widgets/base",
            "_view_module_version": "1.2.0",
            "_view_name": "StyleView",
            "bar_color": null,
            "description_width": ""
          }
        },
        "0ac105309d264dfd9ffad96f0b9fb810": {
          "model_module": "@jupyter-widgets/base",
          "model_name": "LayoutModel",
          "model_module_version": "1.2.0",
          "state": {
            "_model_module": "@jupyter-widgets/base",
            "_model_module_version": "1.2.0",
            "_model_name": "LayoutModel",
            "_view_count": null,
            "_view_module": "@jupyter-widgets/base",
            "_view_module_version": "1.2.0",
            "_view_name": "LayoutView",
            "align_content": null,
            "align_items": null,
            "align_self": null,
            "border": null,
            "bottom": null,
            "display": null,
            "flex": null,
            "flex_flow": null,
            "grid_area": null,
            "grid_auto_columns": null,
            "grid_auto_flow": null,
            "grid_auto_rows": null,
            "grid_column": null,
            "grid_gap": null,
            "grid_row": null,
            "grid_template_areas": null,
            "grid_template_columns": null,
            "grid_template_rows": null,
            "height": null,
            "justify_content": null,
            "justify_items": null,
            "left": null,
            "margin": null,
            "max_height": null,
            "max_width": null,
            "min_height": null,
            "min_width": null,
            "object_fit": null,
            "object_position": null,
            "order": null,
            "overflow": null,
            "overflow_x": null,
            "overflow_y": null,
            "padding": null,
            "right": null,
            "top": null,
            "visibility": null,
            "width": null
          }
        },
        "02bb2d7d60aa4108b83b778b600fe1dd": {
          "model_module": "@jupyter-widgets/controls",
          "model_name": "DescriptionStyleModel",
          "model_module_version": "1.5.0",
          "state": {
            "_model_module": "@jupyter-widgets/controls",
            "_model_module_version": "1.5.0",
            "_model_name": "DescriptionStyleModel",
            "_view_count": null,
            "_view_module": "@jupyter-widgets/base",
            "_view_module_version": "1.2.0",
            "_view_name": "StyleView",
            "description_width": ""
          }
        },
        "fef306f5c0ac407ab12eb38301a943c0": {
          "model_module": "@jupyter-widgets/controls",
          "model_name": "HBoxModel",
          "model_module_version": "1.5.0",
          "state": {
            "_dom_classes": [],
            "_model_module": "@jupyter-widgets/controls",
            "_model_module_version": "1.5.0",
            "_model_name": "HBoxModel",
            "_view_count": null,
            "_view_module": "@jupyter-widgets/controls",
            "_view_module_version": "1.5.0",
            "_view_name": "HBoxView",
            "box_style": "",
            "children": [
              "IPY_MODEL_ead766507f164473a61665b672b6e4e9",
              "IPY_MODEL_42c095e43e8946b08d3ba05f7edf7486",
              "IPY_MODEL_6f6e84976f1e43f8bca2e6c95a1fdcaa"
            ],
            "layout": "IPY_MODEL_6f918051110c47f78086e37824d217fa"
          }
        },
        "ead766507f164473a61665b672b6e4e9": {
          "model_module": "@jupyter-widgets/controls",
          "model_name": "HTMLModel",
          "model_module_version": "1.5.0",
          "state": {
            "_dom_classes": [],
            "_model_module": "@jupyter-widgets/controls",
            "_model_module_version": "1.5.0",
            "_model_name": "HTMLModel",
            "_view_count": null,
            "_view_module": "@jupyter-widgets/controls",
            "_view_module_version": "1.5.0",
            "_view_name": "HTMLView",
            "description": "",
            "description_tooltip": null,
            "layout": "IPY_MODEL_e415500d2aaa48999d1de3eda056391c",
            "placeholder": "​",
            "style": "IPY_MODEL_5283309eb3144705a627dde78a4efeb8",
            "value": "special_tokens_map.json: 100%"
          }
        },
        "42c095e43e8946b08d3ba05f7edf7486": {
          "model_module": "@jupyter-widgets/controls",
          "model_name": "FloatProgressModel",
          "model_module_version": "1.5.0",
          "state": {
            "_dom_classes": [],
            "_model_module": "@jupyter-widgets/controls",
            "_model_module_version": "1.5.0",
            "_model_name": "FloatProgressModel",
            "_view_count": null,
            "_view_module": "@jupyter-widgets/controls",
            "_view_module_version": "1.5.0",
            "_view_name": "ProgressView",
            "bar_style": "success",
            "description": "",
            "description_tooltip": null,
            "layout": "IPY_MODEL_3fafefbcc0d748af88cdfa1ec17ec826",
            "max": 112,
            "min": 0,
            "orientation": "horizontal",
            "style": "IPY_MODEL_bb02cf11be0b4c13909cd0fa9dce3c32",
            "value": 112
          }
        },
        "6f6e84976f1e43f8bca2e6c95a1fdcaa": {
          "model_module": "@jupyter-widgets/controls",
          "model_name": "HTMLModel",
          "model_module_version": "1.5.0",
          "state": {
            "_dom_classes": [],
            "_model_module": "@jupyter-widgets/controls",
            "_model_module_version": "1.5.0",
            "_model_name": "HTMLModel",
            "_view_count": null,
            "_view_module": "@jupyter-widgets/controls",
            "_view_module_version": "1.5.0",
            "_view_name": "HTMLView",
            "description": "",
            "description_tooltip": null,
            "layout": "IPY_MODEL_4cad8738ff5449928b23cd06964e8c80",
            "placeholder": "​",
            "style": "IPY_MODEL_0b97d231daad4480ad1e5f0c49da095b",
            "value": " 112/112 [00:00&lt;00:00, 7.64kB/s]"
          }
        },
        "6f918051110c47f78086e37824d217fa": {
          "model_module": "@jupyter-widgets/base",
          "model_name": "LayoutModel",
          "model_module_version": "1.2.0",
          "state": {
            "_model_module": "@jupyter-widgets/base",
            "_model_module_version": "1.2.0",
            "_model_name": "LayoutModel",
            "_view_count": null,
            "_view_module": "@jupyter-widgets/base",
            "_view_module_version": "1.2.0",
            "_view_name": "LayoutView",
            "align_content": null,
            "align_items": null,
            "align_self": null,
            "border": null,
            "bottom": null,
            "display": null,
            "flex": null,
            "flex_flow": null,
            "grid_area": null,
            "grid_auto_columns": null,
            "grid_auto_flow": null,
            "grid_auto_rows": null,
            "grid_column": null,
            "grid_gap": null,
            "grid_row": null,
            "grid_template_areas": null,
            "grid_template_columns": null,
            "grid_template_rows": null,
            "height": null,
            "justify_content": null,
            "justify_items": null,
            "left": null,
            "margin": null,
            "max_height": null,
            "max_width": null,
            "min_height": null,
            "min_width": null,
            "object_fit": null,
            "object_position": null,
            "order": null,
            "overflow": null,
            "overflow_x": null,
            "overflow_y": null,
            "padding": null,
            "right": null,
            "top": null,
            "visibility": null,
            "width": null
          }
        },
        "e415500d2aaa48999d1de3eda056391c": {
          "model_module": "@jupyter-widgets/base",
          "model_name": "LayoutModel",
          "model_module_version": "1.2.0",
          "state": {
            "_model_module": "@jupyter-widgets/base",
            "_model_module_version": "1.2.0",
            "_model_name": "LayoutModel",
            "_view_count": null,
            "_view_module": "@jupyter-widgets/base",
            "_view_module_version": "1.2.0",
            "_view_name": "LayoutView",
            "align_content": null,
            "align_items": null,
            "align_self": null,
            "border": null,
            "bottom": null,
            "display": null,
            "flex": null,
            "flex_flow": null,
            "grid_area": null,
            "grid_auto_columns": null,
            "grid_auto_flow": null,
            "grid_auto_rows": null,
            "grid_column": null,
            "grid_gap": null,
            "grid_row": null,
            "grid_template_areas": null,
            "grid_template_columns": null,
            "grid_template_rows": null,
            "height": null,
            "justify_content": null,
            "justify_items": null,
            "left": null,
            "margin": null,
            "max_height": null,
            "max_width": null,
            "min_height": null,
            "min_width": null,
            "object_fit": null,
            "object_position": null,
            "order": null,
            "overflow": null,
            "overflow_x": null,
            "overflow_y": null,
            "padding": null,
            "right": null,
            "top": null,
            "visibility": null,
            "width": null
          }
        },
        "5283309eb3144705a627dde78a4efeb8": {
          "model_module": "@jupyter-widgets/controls",
          "model_name": "DescriptionStyleModel",
          "model_module_version": "1.5.0",
          "state": {
            "_model_module": "@jupyter-widgets/controls",
            "_model_module_version": "1.5.0",
            "_model_name": "DescriptionStyleModel",
            "_view_count": null,
            "_view_module": "@jupyter-widgets/base",
            "_view_module_version": "1.2.0",
            "_view_name": "StyleView",
            "description_width": ""
          }
        },
        "3fafefbcc0d748af88cdfa1ec17ec826": {
          "model_module": "@jupyter-widgets/base",
          "model_name": "LayoutModel",
          "model_module_version": "1.2.0",
          "state": {
            "_model_module": "@jupyter-widgets/base",
            "_model_module_version": "1.2.0",
            "_model_name": "LayoutModel",
            "_view_count": null,
            "_view_module": "@jupyter-widgets/base",
            "_view_module_version": "1.2.0",
            "_view_name": "LayoutView",
            "align_content": null,
            "align_items": null,
            "align_self": null,
            "border": null,
            "bottom": null,
            "display": null,
            "flex": null,
            "flex_flow": null,
            "grid_area": null,
            "grid_auto_columns": null,
            "grid_auto_flow": null,
            "grid_auto_rows": null,
            "grid_column": null,
            "grid_gap": null,
            "grid_row": null,
            "grid_template_areas": null,
            "grid_template_columns": null,
            "grid_template_rows": null,
            "height": null,
            "justify_content": null,
            "justify_items": null,
            "left": null,
            "margin": null,
            "max_height": null,
            "max_width": null,
            "min_height": null,
            "min_width": null,
            "object_fit": null,
            "object_position": null,
            "order": null,
            "overflow": null,
            "overflow_x": null,
            "overflow_y": null,
            "padding": null,
            "right": null,
            "top": null,
            "visibility": null,
            "width": null
          }
        },
        "bb02cf11be0b4c13909cd0fa9dce3c32": {
          "model_module": "@jupyter-widgets/controls",
          "model_name": "ProgressStyleModel",
          "model_module_version": "1.5.0",
          "state": {
            "_model_module": "@jupyter-widgets/controls",
            "_model_module_version": "1.5.0",
            "_model_name": "ProgressStyleModel",
            "_view_count": null,
            "_view_module": "@jupyter-widgets/base",
            "_view_module_version": "1.2.0",
            "_view_name": "StyleView",
            "bar_color": null,
            "description_width": ""
          }
        },
        "4cad8738ff5449928b23cd06964e8c80": {
          "model_module": "@jupyter-widgets/base",
          "model_name": "LayoutModel",
          "model_module_version": "1.2.0",
          "state": {
            "_model_module": "@jupyter-widgets/base",
            "_model_module_version": "1.2.0",
            "_model_name": "LayoutModel",
            "_view_count": null,
            "_view_module": "@jupyter-widgets/base",
            "_view_module_version": "1.2.0",
            "_view_name": "LayoutView",
            "align_content": null,
            "align_items": null,
            "align_self": null,
            "border": null,
            "bottom": null,
            "display": null,
            "flex": null,
            "flex_flow": null,
            "grid_area": null,
            "grid_auto_columns": null,
            "grid_auto_flow": null,
            "grid_auto_rows": null,
            "grid_column": null,
            "grid_gap": null,
            "grid_row": null,
            "grid_template_areas": null,
            "grid_template_columns": null,
            "grid_template_rows": null,
            "height": null,
            "justify_content": null,
            "justify_items": null,
            "left": null,
            "margin": null,
            "max_height": null,
            "max_width": null,
            "min_height": null,
            "min_width": null,
            "object_fit": null,
            "object_position": null,
            "order": null,
            "overflow": null,
            "overflow_x": null,
            "overflow_y": null,
            "padding": null,
            "right": null,
            "top": null,
            "visibility": null,
            "width": null
          }
        },
        "0b97d231daad4480ad1e5f0c49da095b": {
          "model_module": "@jupyter-widgets/controls",
          "model_name": "DescriptionStyleModel",
          "model_module_version": "1.5.0",
          "state": {
            "_model_module": "@jupyter-widgets/controls",
            "_model_module_version": "1.5.0",
            "_model_name": "DescriptionStyleModel",
            "_view_count": null,
            "_view_module": "@jupyter-widgets/base",
            "_view_module_version": "1.2.0",
            "_view_name": "StyleView",
            "description_width": ""
          }
        },
        "77fa3b3c10884b8eb55d8772c18b1bf8": {
          "model_module": "@jupyter-widgets/controls",
          "model_name": "HBoxModel",
          "model_module_version": "1.5.0",
          "state": {
            "_dom_classes": [],
            "_model_module": "@jupyter-widgets/controls",
            "_model_module_version": "1.5.0",
            "_model_name": "HBoxModel",
            "_view_count": null,
            "_view_module": "@jupyter-widgets/controls",
            "_view_module_version": "1.5.0",
            "_view_name": "HBoxView",
            "box_style": "",
            "children": [
              "IPY_MODEL_ad6506a2ad63423fb94521a8db750c0f",
              "IPY_MODEL_245c0f4ff49b4087861af9ce1e50a94b",
              "IPY_MODEL_6471834f0c6c4ac4a1e57ada927bf743"
            ],
            "layout": "IPY_MODEL_6cf3cd711f49455783754fec3bd0c419"
          }
        },
        "ad6506a2ad63423fb94521a8db750c0f": {
          "model_module": "@jupyter-widgets/controls",
          "model_name": "HTMLModel",
          "model_module_version": "1.5.0",
          "state": {
            "_dom_classes": [],
            "_model_module": "@jupyter-widgets/controls",
            "_model_module_version": "1.5.0",
            "_model_name": "HTMLModel",
            "_view_count": null,
            "_view_module": "@jupyter-widgets/controls",
            "_view_module_version": "1.5.0",
            "_view_name": "HTMLView",
            "description": "",
            "description_tooltip": null,
            "layout": "IPY_MODEL_f09b38ba7f5b4fd5bbb744ba3def3c57",
            "placeholder": "​",
            "style": "IPY_MODEL_9d18c0b3971a4701ba8379f9f3d6a4e1",
            "value": "1_Pooling/config.json: 100%"
          }
        },
        "245c0f4ff49b4087861af9ce1e50a94b": {
          "model_module": "@jupyter-widgets/controls",
          "model_name": "FloatProgressModel",
          "model_module_version": "1.5.0",
          "state": {
            "_dom_classes": [],
            "_model_module": "@jupyter-widgets/controls",
            "_model_module_version": "1.5.0",
            "_model_name": "FloatProgressModel",
            "_view_count": null,
            "_view_module": "@jupyter-widgets/controls",
            "_view_module_version": "1.5.0",
            "_view_name": "ProgressView",
            "bar_style": "success",
            "description": "",
            "description_tooltip": null,
            "layout": "IPY_MODEL_1d41ea039d684cf2805c026c4fb32a90",
            "max": 190,
            "min": 0,
            "orientation": "horizontal",
            "style": "IPY_MODEL_51b371d37aba4086a712be136af33cd1",
            "value": 190
          }
        },
        "6471834f0c6c4ac4a1e57ada927bf743": {
          "model_module": "@jupyter-widgets/controls",
          "model_name": "HTMLModel",
          "model_module_version": "1.5.0",
          "state": {
            "_dom_classes": [],
            "_model_module": "@jupyter-widgets/controls",
            "_model_module_version": "1.5.0",
            "_model_name": "HTMLModel",
            "_view_count": null,
            "_view_module": "@jupyter-widgets/controls",
            "_view_module_version": "1.5.0",
            "_view_name": "HTMLView",
            "description": "",
            "description_tooltip": null,
            "layout": "IPY_MODEL_0bb3b5de4ffd4f27bb3e81bc23cc9590",
            "placeholder": "​",
            "style": "IPY_MODEL_165bbb5ba3fe4762883f58dfc2d9b351",
            "value": " 190/190 [00:00&lt;00:00, 11.8kB/s]"
          }
        },
        "6cf3cd711f49455783754fec3bd0c419": {
          "model_module": "@jupyter-widgets/base",
          "model_name": "LayoutModel",
          "model_module_version": "1.2.0",
          "state": {
            "_model_module": "@jupyter-widgets/base",
            "_model_module_version": "1.2.0",
            "_model_name": "LayoutModel",
            "_view_count": null,
            "_view_module": "@jupyter-widgets/base",
            "_view_module_version": "1.2.0",
            "_view_name": "LayoutView",
            "align_content": null,
            "align_items": null,
            "align_self": null,
            "border": null,
            "bottom": null,
            "display": null,
            "flex": null,
            "flex_flow": null,
            "grid_area": null,
            "grid_auto_columns": null,
            "grid_auto_flow": null,
            "grid_auto_rows": null,
            "grid_column": null,
            "grid_gap": null,
            "grid_row": null,
            "grid_template_areas": null,
            "grid_template_columns": null,
            "grid_template_rows": null,
            "height": null,
            "justify_content": null,
            "justify_items": null,
            "left": null,
            "margin": null,
            "max_height": null,
            "max_width": null,
            "min_height": null,
            "min_width": null,
            "object_fit": null,
            "object_position": null,
            "order": null,
            "overflow": null,
            "overflow_x": null,
            "overflow_y": null,
            "padding": null,
            "right": null,
            "top": null,
            "visibility": null,
            "width": null
          }
        },
        "f09b38ba7f5b4fd5bbb744ba3def3c57": {
          "model_module": "@jupyter-widgets/base",
          "model_name": "LayoutModel",
          "model_module_version": "1.2.0",
          "state": {
            "_model_module": "@jupyter-widgets/base",
            "_model_module_version": "1.2.0",
            "_model_name": "LayoutModel",
            "_view_count": null,
            "_view_module": "@jupyter-widgets/base",
            "_view_module_version": "1.2.0",
            "_view_name": "LayoutView",
            "align_content": null,
            "align_items": null,
            "align_self": null,
            "border": null,
            "bottom": null,
            "display": null,
            "flex": null,
            "flex_flow": null,
            "grid_area": null,
            "grid_auto_columns": null,
            "grid_auto_flow": null,
            "grid_auto_rows": null,
            "grid_column": null,
            "grid_gap": null,
            "grid_row": null,
            "grid_template_areas": null,
            "grid_template_columns": null,
            "grid_template_rows": null,
            "height": null,
            "justify_content": null,
            "justify_items": null,
            "left": null,
            "margin": null,
            "max_height": null,
            "max_width": null,
            "min_height": null,
            "min_width": null,
            "object_fit": null,
            "object_position": null,
            "order": null,
            "overflow": null,
            "overflow_x": null,
            "overflow_y": null,
            "padding": null,
            "right": null,
            "top": null,
            "visibility": null,
            "width": null
          }
        },
        "9d18c0b3971a4701ba8379f9f3d6a4e1": {
          "model_module": "@jupyter-widgets/controls",
          "model_name": "DescriptionStyleModel",
          "model_module_version": "1.5.0",
          "state": {
            "_model_module": "@jupyter-widgets/controls",
            "_model_module_version": "1.5.0",
            "_model_name": "DescriptionStyleModel",
            "_view_count": null,
            "_view_module": "@jupyter-widgets/base",
            "_view_module_version": "1.2.0",
            "_view_name": "StyleView",
            "description_width": ""
          }
        },
        "1d41ea039d684cf2805c026c4fb32a90": {
          "model_module": "@jupyter-widgets/base",
          "model_name": "LayoutModel",
          "model_module_version": "1.2.0",
          "state": {
            "_model_module": "@jupyter-widgets/base",
            "_model_module_version": "1.2.0",
            "_model_name": "LayoutModel",
            "_view_count": null,
            "_view_module": "@jupyter-widgets/base",
            "_view_module_version": "1.2.0",
            "_view_name": "LayoutView",
            "align_content": null,
            "align_items": null,
            "align_self": null,
            "border": null,
            "bottom": null,
            "display": null,
            "flex": null,
            "flex_flow": null,
            "grid_area": null,
            "grid_auto_columns": null,
            "grid_auto_flow": null,
            "grid_auto_rows": null,
            "grid_column": null,
            "grid_gap": null,
            "grid_row": null,
            "grid_template_areas": null,
            "grid_template_columns": null,
            "grid_template_rows": null,
            "height": null,
            "justify_content": null,
            "justify_items": null,
            "left": null,
            "margin": null,
            "max_height": null,
            "max_width": null,
            "min_height": null,
            "min_width": null,
            "object_fit": null,
            "object_position": null,
            "order": null,
            "overflow": null,
            "overflow_x": null,
            "overflow_y": null,
            "padding": null,
            "right": null,
            "top": null,
            "visibility": null,
            "width": null
          }
        },
        "51b371d37aba4086a712be136af33cd1": {
          "model_module": "@jupyter-widgets/controls",
          "model_name": "ProgressStyleModel",
          "model_module_version": "1.5.0",
          "state": {
            "_model_module": "@jupyter-widgets/controls",
            "_model_module_version": "1.5.0",
            "_model_name": "ProgressStyleModel",
            "_view_count": null,
            "_view_module": "@jupyter-widgets/base",
            "_view_module_version": "1.2.0",
            "_view_name": "StyleView",
            "bar_color": null,
            "description_width": ""
          }
        },
        "0bb3b5de4ffd4f27bb3e81bc23cc9590": {
          "model_module": "@jupyter-widgets/base",
          "model_name": "LayoutModel",
          "model_module_version": "1.2.0",
          "state": {
            "_model_module": "@jupyter-widgets/base",
            "_model_module_version": "1.2.0",
            "_model_name": "LayoutModel",
            "_view_count": null,
            "_view_module": "@jupyter-widgets/base",
            "_view_module_version": "1.2.0",
            "_view_name": "LayoutView",
            "align_content": null,
            "align_items": null,
            "align_self": null,
            "border": null,
            "bottom": null,
            "display": null,
            "flex": null,
            "flex_flow": null,
            "grid_area": null,
            "grid_auto_columns": null,
            "grid_auto_flow": null,
            "grid_auto_rows": null,
            "grid_column": null,
            "grid_gap": null,
            "grid_row": null,
            "grid_template_areas": null,
            "grid_template_columns": null,
            "grid_template_rows": null,
            "height": null,
            "justify_content": null,
            "justify_items": null,
            "left": null,
            "margin": null,
            "max_height": null,
            "max_width": null,
            "min_height": null,
            "min_width": null,
            "object_fit": null,
            "object_position": null,
            "order": null,
            "overflow": null,
            "overflow_x": null,
            "overflow_y": null,
            "padding": null,
            "right": null,
            "top": null,
            "visibility": null,
            "width": null
          }
        },
        "165bbb5ba3fe4762883f58dfc2d9b351": {
          "model_module": "@jupyter-widgets/controls",
          "model_name": "DescriptionStyleModel",
          "model_module_version": "1.5.0",
          "state": {
            "_model_module": "@jupyter-widgets/controls",
            "_model_module_version": "1.5.0",
            "_model_name": "DescriptionStyleModel",
            "_view_count": null,
            "_view_module": "@jupyter-widgets/base",
            "_view_module_version": "1.2.0",
            "_view_name": "StyleView",
            "description_width": ""
          }
        },
        "fe2f8d2f460d452fa73fd368fe77af27": {
          "model_module": "@jupyter-widgets/controls",
          "model_name": "HBoxModel",
          "model_module_version": "1.5.0",
          "state": {
            "_dom_classes": [],
            "_model_module": "@jupyter-widgets/controls",
            "_model_module_version": "1.5.0",
            "_model_name": "HBoxModel",
            "_view_count": null,
            "_view_module": "@jupyter-widgets/controls",
            "_view_module_version": "1.5.0",
            "_view_name": "HBoxView",
            "box_style": "",
            "children": [
              "IPY_MODEL_73de7ba536cd4467be88495e10eeaf4b",
              "IPY_MODEL_cdc52549332b4678b07cf79c16659671",
              "IPY_MODEL_eb8b94313a39435484f48fc1298cb107"
            ],
            "layout": "IPY_MODEL_7e24e780662d4c07ad3f1f01b3aa5e73"
          }
        },
        "73de7ba536cd4467be88495e10eeaf4b": {
          "model_module": "@jupyter-widgets/controls",
          "model_name": "HTMLModel",
          "model_module_version": "1.5.0",
          "state": {
            "_dom_classes": [],
            "_model_module": "@jupyter-widgets/controls",
            "_model_module_version": "1.5.0",
            "_model_name": "HTMLModel",
            "_view_count": null,
            "_view_module": "@jupyter-widgets/controls",
            "_view_module_version": "1.5.0",
            "_view_name": "HTMLView",
            "description": "",
            "description_tooltip": null,
            "layout": "IPY_MODEL_e0ea45fcf52140aca19c3241e6171efe",
            "placeholder": "​",
            "style": "IPY_MODEL_b953d63458504536836d3f939ed2a5de",
            "value": "Batches: 100%"
          }
        },
        "cdc52549332b4678b07cf79c16659671": {
          "model_module": "@jupyter-widgets/controls",
          "model_name": "FloatProgressModel",
          "model_module_version": "1.5.0",
          "state": {
            "_dom_classes": [],
            "_model_module": "@jupyter-widgets/controls",
            "_model_module_version": "1.5.0",
            "_model_name": "FloatProgressModel",
            "_view_count": null,
            "_view_module": "@jupyter-widgets/controls",
            "_view_module_version": "1.5.0",
            "_view_name": "ProgressView",
            "bar_style": "success",
            "description": "",
            "description_tooltip": null,
            "layout": "IPY_MODEL_203871794e674ce39798f5390c36f6b0",
            "max": 5990,
            "min": 0,
            "orientation": "horizontal",
            "style": "IPY_MODEL_a53febe328084239a0d48c8aa73beeb6",
            "value": 5990
          }
        },
        "eb8b94313a39435484f48fc1298cb107": {
          "model_module": "@jupyter-widgets/controls",
          "model_name": "HTMLModel",
          "model_module_version": "1.5.0",
          "state": {
            "_dom_classes": [],
            "_model_module": "@jupyter-widgets/controls",
            "_model_module_version": "1.5.0",
            "_model_name": "HTMLModel",
            "_view_count": null,
            "_view_module": "@jupyter-widgets/controls",
            "_view_module_version": "1.5.0",
            "_view_name": "HTMLView",
            "description": "",
            "description_tooltip": null,
            "layout": "IPY_MODEL_bfdea896d49b49f3acb5f86970086123",
            "placeholder": "​",
            "style": "IPY_MODEL_93323727ff454164a435a43e9cac6cef",
            "value": " 5990/5990 [01:46&lt;00:00, 97.89it/s]"
          }
        },
        "7e24e780662d4c07ad3f1f01b3aa5e73": {
          "model_module": "@jupyter-widgets/base",
          "model_name": "LayoutModel",
          "model_module_version": "1.2.0",
          "state": {
            "_model_module": "@jupyter-widgets/base",
            "_model_module_version": "1.2.0",
            "_model_name": "LayoutModel",
            "_view_count": null,
            "_view_module": "@jupyter-widgets/base",
            "_view_module_version": "1.2.0",
            "_view_name": "LayoutView",
            "align_content": null,
            "align_items": null,
            "align_self": null,
            "border": null,
            "bottom": null,
            "display": null,
            "flex": null,
            "flex_flow": null,
            "grid_area": null,
            "grid_auto_columns": null,
            "grid_auto_flow": null,
            "grid_auto_rows": null,
            "grid_column": null,
            "grid_gap": null,
            "grid_row": null,
            "grid_template_areas": null,
            "grid_template_columns": null,
            "grid_template_rows": null,
            "height": null,
            "justify_content": null,
            "justify_items": null,
            "left": null,
            "margin": null,
            "max_height": null,
            "max_width": null,
            "min_height": null,
            "min_width": null,
            "object_fit": null,
            "object_position": null,
            "order": null,
            "overflow": null,
            "overflow_x": null,
            "overflow_y": null,
            "padding": null,
            "right": null,
            "top": null,
            "visibility": null,
            "width": null
          }
        },
        "e0ea45fcf52140aca19c3241e6171efe": {
          "model_module": "@jupyter-widgets/base",
          "model_name": "LayoutModel",
          "model_module_version": "1.2.0",
          "state": {
            "_model_module": "@jupyter-widgets/base",
            "_model_module_version": "1.2.0",
            "_model_name": "LayoutModel",
            "_view_count": null,
            "_view_module": "@jupyter-widgets/base",
            "_view_module_version": "1.2.0",
            "_view_name": "LayoutView",
            "align_content": null,
            "align_items": null,
            "align_self": null,
            "border": null,
            "bottom": null,
            "display": null,
            "flex": null,
            "flex_flow": null,
            "grid_area": null,
            "grid_auto_columns": null,
            "grid_auto_flow": null,
            "grid_auto_rows": null,
            "grid_column": null,
            "grid_gap": null,
            "grid_row": null,
            "grid_template_areas": null,
            "grid_template_columns": null,
            "grid_template_rows": null,
            "height": null,
            "justify_content": null,
            "justify_items": null,
            "left": null,
            "margin": null,
            "max_height": null,
            "max_width": null,
            "min_height": null,
            "min_width": null,
            "object_fit": null,
            "object_position": null,
            "order": null,
            "overflow": null,
            "overflow_x": null,
            "overflow_y": null,
            "padding": null,
            "right": null,
            "top": null,
            "visibility": null,
            "width": null
          }
        },
        "b953d63458504536836d3f939ed2a5de": {
          "model_module": "@jupyter-widgets/controls",
          "model_name": "DescriptionStyleModel",
          "model_module_version": "1.5.0",
          "state": {
            "_model_module": "@jupyter-widgets/controls",
            "_model_module_version": "1.5.0",
            "_model_name": "DescriptionStyleModel",
            "_view_count": null,
            "_view_module": "@jupyter-widgets/base",
            "_view_module_version": "1.2.0",
            "_view_name": "StyleView",
            "description_width": ""
          }
        },
        "203871794e674ce39798f5390c36f6b0": {
          "model_module": "@jupyter-widgets/base",
          "model_name": "LayoutModel",
          "model_module_version": "1.2.0",
          "state": {
            "_model_module": "@jupyter-widgets/base",
            "_model_module_version": "1.2.0",
            "_model_name": "LayoutModel",
            "_view_count": null,
            "_view_module": "@jupyter-widgets/base",
            "_view_module_version": "1.2.0",
            "_view_name": "LayoutView",
            "align_content": null,
            "align_items": null,
            "align_self": null,
            "border": null,
            "bottom": null,
            "display": null,
            "flex": null,
            "flex_flow": null,
            "grid_area": null,
            "grid_auto_columns": null,
            "grid_auto_flow": null,
            "grid_auto_rows": null,
            "grid_column": null,
            "grid_gap": null,
            "grid_row": null,
            "grid_template_areas": null,
            "grid_template_columns": null,
            "grid_template_rows": null,
            "height": null,
            "justify_content": null,
            "justify_items": null,
            "left": null,
            "margin": null,
            "max_height": null,
            "max_width": null,
            "min_height": null,
            "min_width": null,
            "object_fit": null,
            "object_position": null,
            "order": null,
            "overflow": null,
            "overflow_x": null,
            "overflow_y": null,
            "padding": null,
            "right": null,
            "top": null,
            "visibility": null,
            "width": null
          }
        },
        "a53febe328084239a0d48c8aa73beeb6": {
          "model_module": "@jupyter-widgets/controls",
          "model_name": "ProgressStyleModel",
          "model_module_version": "1.5.0",
          "state": {
            "_model_module": "@jupyter-widgets/controls",
            "_model_module_version": "1.5.0",
            "_model_name": "ProgressStyleModel",
            "_view_count": null,
            "_view_module": "@jupyter-widgets/base",
            "_view_module_version": "1.2.0",
            "_view_name": "StyleView",
            "bar_color": null,
            "description_width": ""
          }
        },
        "bfdea896d49b49f3acb5f86970086123": {
          "model_module": "@jupyter-widgets/base",
          "model_name": "LayoutModel",
          "model_module_version": "1.2.0",
          "state": {
            "_model_module": "@jupyter-widgets/base",
            "_model_module_version": "1.2.0",
            "_model_name": "LayoutModel",
            "_view_count": null,
            "_view_module": "@jupyter-widgets/base",
            "_view_module_version": "1.2.0",
            "_view_name": "LayoutView",
            "align_content": null,
            "align_items": null,
            "align_self": null,
            "border": null,
            "bottom": null,
            "display": null,
            "flex": null,
            "flex_flow": null,
            "grid_area": null,
            "grid_auto_columns": null,
            "grid_auto_flow": null,
            "grid_auto_rows": null,
            "grid_column": null,
            "grid_gap": null,
            "grid_row": null,
            "grid_template_areas": null,
            "grid_template_columns": null,
            "grid_template_rows": null,
            "height": null,
            "justify_content": null,
            "justify_items": null,
            "left": null,
            "margin": null,
            "max_height": null,
            "max_width": null,
            "min_height": null,
            "min_width": null,
            "object_fit": null,
            "object_position": null,
            "order": null,
            "overflow": null,
            "overflow_x": null,
            "overflow_y": null,
            "padding": null,
            "right": null,
            "top": null,
            "visibility": null,
            "width": null
          }
        },
        "93323727ff454164a435a43e9cac6cef": {
          "model_module": "@jupyter-widgets/controls",
          "model_name": "DescriptionStyleModel",
          "model_module_version": "1.5.0",
          "state": {
            "_model_module": "@jupyter-widgets/controls",
            "_model_module_version": "1.5.0",
            "_model_name": "DescriptionStyleModel",
            "_view_count": null,
            "_view_module": "@jupyter-widgets/base",
            "_view_module_version": "1.2.0",
            "_view_name": "StyleView",
            "description_width": ""
          }
        }
      }
    }
  },
  "cells": [
    {
      "cell_type": "markdown",
      "metadata": {
        "id": "view-in-github",
        "colab_type": "text"
      },
      "source": [
        "<a href=\"https://colab.research.google.com/github/JamorMoussa/Topic-Modeling-With-BERTopic/blob/main/00_Analyzing_Customer_Feedback_using_Topic_Modelling.ipynb\" target=\"_parent\"><img src=\"https://colab.research.google.com/assets/colab-badge.svg\" alt=\"Open In Colab\"/></a>"
      ]
    },
    {
      "cell_type": "markdown",
      "source": [
        "# Analyzing Customer Feedback using Topic Modelling"
      ],
      "metadata": {
        "id": "mbAP3nrHrq3x"
      }
    },
    {
      "cell_type": "markdown",
      "source": [
        "**Objective:** Identify problems being faced by users from OLA app’s playstore reviews."
      ],
      "metadata": {
        "id": "S8opA3xsr2_S"
      }
    },
    {
      "cell_type": "markdown",
      "source": [
        "**Dataset:** Google playstore reviews of OLA [download from kaggle](https://www.kaggle.com/datasets/khushipitroda/ola-vs-uber-play-store-reviews)"
      ],
      "metadata": {
        "id": "RcEenAjVr-tJ"
      }
    },
    {
      "cell_type": "code",
      "source": [
        "import matplotlib.pyplot as plt\n",
        "import seaborn as sns\n",
        "import pandas as pd\n",
        "\n",
        "import tensorflow as tf"
      ],
      "metadata": {
        "id": "M684mxJ9uuht"
      },
      "execution_count": 5,
      "outputs": []
    },
    {
      "cell_type": "markdown",
      "source": [
        "## 01. About The Dataset"
      ],
      "metadata": {
        "id": "N3URM3BisJ7G"
      }
    },
    {
      "cell_type": "markdown",
      "source": [
        "### 1.1 Description\n",
        "\n",
        "This dataset contains Play Store reviews for two prominent car services, Uber and Ola. It provides valuable insights into user experiences, feedback, and sentiments towards these ride-sharing apps. The dataset includes various attributes such as review ID, user name, review title, review description, rating, thumbs up count, review date, developer response, developer response date, app version, language code, and country code. The dataset is a valuable resource for analyzing user sentiments, trends, and contributing factors that impact user satisfaction."
      ],
      "metadata": {
        "id": "oDDq-UBRsTqu"
      }
    },
    {
      "cell_type": "code",
      "execution_count": 6,
      "metadata": {
        "colab": {
          "base_uri": "https://localhost:8080/"
        },
        "id": "mUezsGskrDOc",
        "outputId": "29daa691-e4a4-4b1d-ab59-801fdd549fff"
      },
      "outputs": [
        {
          "output_type": "stream",
          "name": "stdout",
          "text": [
            "Dataset URL: https://www.kaggle.com/datasets/khushipitroda/ola-vs-uber-play-store-reviews\n",
            "License(s): other\n",
            "ola-vs-uber-play-store-reviews.zip: Skipping, found more recently modified local copy (use --force to force download)\n"
          ]
        }
      ],
      "source": [
        "!kaggle datasets download -d khushipitroda/ola-vs-uber-play-store-reviews"
      ]
    },
    {
      "cell_type": "code",
      "source": [
        "!ls"
      ],
      "metadata": {
        "colab": {
          "base_uri": "https://localhost:8080/"
        },
        "id": "oNUnzSL2tn1N",
        "outputId": "ee58694d-4d35-43d4-e817-53bfd8b5e410"
      },
      "execution_count": 7,
      "outputs": [
        {
          "output_type": "stream",
          "name": "stdout",
          "text": [
            "'Ola Customer Reviews.csv'\t      sample_data\n",
            " ola-vs-uber-play-store-reviews.zip  'Uber Customer Reviews.csv'\n"
          ]
        }
      ]
    },
    {
      "cell_type": "code",
      "source": [
        "!unzip ola-vs-uber-play-store-reviews.zip"
      ],
      "metadata": {
        "colab": {
          "base_uri": "https://localhost:8080/"
        },
        "id": "N59J_GsBuEkH",
        "outputId": "80eaa61c-2a73-4123-d64a-cdd8aeb9e943"
      },
      "execution_count": 8,
      "outputs": [
        {
          "output_type": "stream",
          "name": "stdout",
          "text": [
            "Archive:  ola-vs-uber-play-store-reviews.zip\n",
            "replace Ola Customer Reviews.csv? [y]es, [n]o, [A]ll, [N]one, [r]ename: n\n",
            "replace Uber Customer Reviews.csv? [y]es, [n]o, [A]ll, [N]one, [r]ename: n\n"
          ]
        }
      ]
    },
    {
      "cell_type": "markdown",
      "source": [
        "## 02. Exploratory Data Analysis - EDA"
      ],
      "metadata": {
        "id": "QUbYFbq2vP0a"
      }
    },
    {
      "cell_type": "markdown",
      "source": [
        "### 2.1 Eplore The Dataset"
      ],
      "metadata": {
        "id": "ogMOTXKt5V4v"
      }
    },
    {
      "cell_type": "code",
      "source": [
        "ola_df = pd.read_csv(\"/content/Ola Customer Reviews.csv\")\n",
        "ola_df.columns"
      ],
      "metadata": {
        "colab": {
          "base_uri": "https://localhost:8080/"
        },
        "id": "1cLaCqwRuHMM",
        "outputId": "54fee1bc-7560-4e39-8c34-5f3706541835"
      },
      "execution_count": 9,
      "outputs": [
        {
          "output_type": "stream",
          "name": "stderr",
          "text": [
            "<ipython-input-9-4aa1c64f3d96>:1: DtypeWarning: Columns (3) have mixed types. Specify dtype option on import or set low_memory=False.\n",
            "  ola_df = pd.read_csv(\"/content/Ola Customer Reviews.csv\")\n"
          ]
        },
        {
          "output_type": "execute_result",
          "data": {
            "text/plain": [
              "Index(['source', 'review_id', 'user_name', 'review_title',\n",
              "       'review_description', 'rating', 'thumbs_up', 'review_date',\n",
              "       'developer_response', 'developer_response_date', 'appVersion',\n",
              "       'laguage_code', 'country_code'],\n",
              "      dtype='object')"
            ]
          },
          "metadata": {},
          "execution_count": 9
        }
      ]
    },
    {
      "cell_type": "code",
      "source": [
        "ola_df.head(1)"
      ],
      "metadata": {
        "colab": {
          "base_uri": "https://localhost:8080/",
          "height": 135
        },
        "id": "molUCbr2u2-q",
        "outputId": "fe621ba8-d998-4714-e727-b7e766184c57"
      },
      "execution_count": 10,
      "outputs": [
        {
          "output_type": "execute_result",
          "data": {
            "text/plain": [
              "        source                             review_id      user_name  \\\n",
              "0  Google Play  fbc7ffc9-5a89-446e-87fd-d69bf4a7f984  Puipuii Ralte   \n",
              "\n",
              "  review_title                                 review_description  rating  \\\n",
              "0          NaN  The map in Ola is so messed up, i have to pay ...       1   \n",
              "\n",
              "   thumbs_up          review_date developer_response developer_response_date  \\\n",
              "0        0.0  2023-08-10 16:40:50                NaN                     NaN   \n",
              "\n",
              "  appVersion laguage_code country_code  \n",
              "0      6.3.2           en           in  "
            ],
            "text/html": [
              "\n",
              "  <div id=\"df-f38e62ae-0e6d-40d8-8dd0-7c88800e24c2\" class=\"colab-df-container\">\n",
              "    <div>\n",
              "<style scoped>\n",
              "    .dataframe tbody tr th:only-of-type {\n",
              "        vertical-align: middle;\n",
              "    }\n",
              "\n",
              "    .dataframe tbody tr th {\n",
              "        vertical-align: top;\n",
              "    }\n",
              "\n",
              "    .dataframe thead th {\n",
              "        text-align: right;\n",
              "    }\n",
              "</style>\n",
              "<table border=\"1\" class=\"dataframe\">\n",
              "  <thead>\n",
              "    <tr style=\"text-align: right;\">\n",
              "      <th></th>\n",
              "      <th>source</th>\n",
              "      <th>review_id</th>\n",
              "      <th>user_name</th>\n",
              "      <th>review_title</th>\n",
              "      <th>review_description</th>\n",
              "      <th>rating</th>\n",
              "      <th>thumbs_up</th>\n",
              "      <th>review_date</th>\n",
              "      <th>developer_response</th>\n",
              "      <th>developer_response_date</th>\n",
              "      <th>appVersion</th>\n",
              "      <th>laguage_code</th>\n",
              "      <th>country_code</th>\n",
              "    </tr>\n",
              "  </thead>\n",
              "  <tbody>\n",
              "    <tr>\n",
              "      <th>0</th>\n",
              "      <td>Google Play</td>\n",
              "      <td>fbc7ffc9-5a89-446e-87fd-d69bf4a7f984</td>\n",
              "      <td>Puipuii Ralte</td>\n",
              "      <td>NaN</td>\n",
              "      <td>The map in Ola is so messed up, i have to pay ...</td>\n",
              "      <td>1</td>\n",
              "      <td>0.0</td>\n",
              "      <td>2023-08-10 16:40:50</td>\n",
              "      <td>NaN</td>\n",
              "      <td>NaN</td>\n",
              "      <td>6.3.2</td>\n",
              "      <td>en</td>\n",
              "      <td>in</td>\n",
              "    </tr>\n",
              "  </tbody>\n",
              "</table>\n",
              "</div>\n",
              "    <div class=\"colab-df-buttons\">\n",
              "\n",
              "  <div class=\"colab-df-container\">\n",
              "    <button class=\"colab-df-convert\" onclick=\"convertToInteractive('df-f38e62ae-0e6d-40d8-8dd0-7c88800e24c2')\"\n",
              "            title=\"Convert this dataframe to an interactive table.\"\n",
              "            style=\"display:none;\">\n",
              "\n",
              "  <svg xmlns=\"http://www.w3.org/2000/svg\" height=\"24px\" viewBox=\"0 -960 960 960\">\n",
              "    <path d=\"M120-120v-720h720v720H120Zm60-500h600v-160H180v160Zm220 220h160v-160H400v160Zm0 220h160v-160H400v160ZM180-400h160v-160H180v160Zm440 0h160v-160H620v160ZM180-180h160v-160H180v160Zm440 0h160v-160H620v160Z\"/>\n",
              "  </svg>\n",
              "    </button>\n",
              "\n",
              "  <style>\n",
              "    .colab-df-container {\n",
              "      display:flex;\n",
              "      gap: 12px;\n",
              "    }\n",
              "\n",
              "    .colab-df-convert {\n",
              "      background-color: #E8F0FE;\n",
              "      border: none;\n",
              "      border-radius: 50%;\n",
              "      cursor: pointer;\n",
              "      display: none;\n",
              "      fill: #1967D2;\n",
              "      height: 32px;\n",
              "      padding: 0 0 0 0;\n",
              "      width: 32px;\n",
              "    }\n",
              "\n",
              "    .colab-df-convert:hover {\n",
              "      background-color: #E2EBFA;\n",
              "      box-shadow: 0px 1px 2px rgba(60, 64, 67, 0.3), 0px 1px 3px 1px rgba(60, 64, 67, 0.15);\n",
              "      fill: #174EA6;\n",
              "    }\n",
              "\n",
              "    .colab-df-buttons div {\n",
              "      margin-bottom: 4px;\n",
              "    }\n",
              "\n",
              "    [theme=dark] .colab-df-convert {\n",
              "      background-color: #3B4455;\n",
              "      fill: #D2E3FC;\n",
              "    }\n",
              "\n",
              "    [theme=dark] .colab-df-convert:hover {\n",
              "      background-color: #434B5C;\n",
              "      box-shadow: 0px 1px 3px 1px rgba(0, 0, 0, 0.15);\n",
              "      filter: drop-shadow(0px 1px 2px rgba(0, 0, 0, 0.3));\n",
              "      fill: #FFFFFF;\n",
              "    }\n",
              "  </style>\n",
              "\n",
              "    <script>\n",
              "      const buttonEl =\n",
              "        document.querySelector('#df-f38e62ae-0e6d-40d8-8dd0-7c88800e24c2 button.colab-df-convert');\n",
              "      buttonEl.style.display =\n",
              "        google.colab.kernel.accessAllowed ? 'block' : 'none';\n",
              "\n",
              "      async function convertToInteractive(key) {\n",
              "        const element = document.querySelector('#df-f38e62ae-0e6d-40d8-8dd0-7c88800e24c2');\n",
              "        const dataTable =\n",
              "          await google.colab.kernel.invokeFunction('convertToInteractive',\n",
              "                                                    [key], {});\n",
              "        if (!dataTable) return;\n",
              "\n",
              "        const docLinkHtml = 'Like what you see? Visit the ' +\n",
              "          '<a target=\"_blank\" href=https://colab.research.google.com/notebooks/data_table.ipynb>data table notebook</a>'\n",
              "          + ' to learn more about interactive tables.';\n",
              "        element.innerHTML = '';\n",
              "        dataTable['output_type'] = 'display_data';\n",
              "        await google.colab.output.renderOutput(dataTable, element);\n",
              "        const docLink = document.createElement('div');\n",
              "        docLink.innerHTML = docLinkHtml;\n",
              "        element.appendChild(docLink);\n",
              "      }\n",
              "    </script>\n",
              "  </div>\n",
              "\n",
              "\n",
              "    </div>\n",
              "  </div>\n"
            ],
            "application/vnd.google.colaboratory.intrinsic+json": {
              "type": "dataframe",
              "variable_name": "ola_df"
            }
          },
          "metadata": {},
          "execution_count": 10
        }
      ]
    },
    {
      "cell_type": "markdown",
      "source": [
        "The total rows is `357698`"
      ],
      "metadata": {
        "id": "VaodeGMq4OBe"
      }
    },
    {
      "cell_type": "code",
      "source": [
        "ola_df.shape"
      ],
      "metadata": {
        "colab": {
          "base_uri": "https://localhost:8080/"
        },
        "id": "mUlc9s_V4EA0",
        "outputId": "2e0d6b4c-7886-4350-a2b4-b8c4be18e217"
      },
      "execution_count": 11,
      "outputs": [
        {
          "output_type": "execute_result",
          "data": {
            "text/plain": [
              "(357698, 13)"
            ]
          },
          "metadata": {},
          "execution_count": 11
        }
      ]
    },
    {
      "cell_type": "markdown",
      "source": [
        "For our study, for instance we are interested with `review_description`. As we can see that we have some `NaN` in the `review descption` column."
      ],
      "metadata": {
        "id": "H3Y0hx-e4UBs"
      }
    },
    {
      "cell_type": "code",
      "source": [
        "ola_df.isna().sum()"
      ],
      "metadata": {
        "colab": {
          "base_uri": "https://localhost:8080/",
          "height": 492
        },
        "id": "53397R512ARm",
        "outputId": "86e4eca6-8c71-42a1-953e-2edcceb89a25"
      },
      "execution_count": 12,
      "outputs": [
        {
          "output_type": "execute_result",
          "data": {
            "text/plain": [
              "source                          0\n",
              "review_id                       0\n",
              "user_name                       0\n",
              "review_title               356807\n",
              "review_description             20\n",
              "rating                          0\n",
              "thumbs_up                     891\n",
              "review_date                     0\n",
              "developer_response         232929\n",
              "developer_response_date    233108\n",
              "appVersion                  82372\n",
              "laguage_code                    0\n",
              "country_code                    0\n",
              "dtype: int64"
            ],
            "text/html": [
              "<div>\n",
              "<style scoped>\n",
              "    .dataframe tbody tr th:only-of-type {\n",
              "        vertical-align: middle;\n",
              "    }\n",
              "\n",
              "    .dataframe tbody tr th {\n",
              "        vertical-align: top;\n",
              "    }\n",
              "\n",
              "    .dataframe thead th {\n",
              "        text-align: right;\n",
              "    }\n",
              "</style>\n",
              "<table border=\"1\" class=\"dataframe\">\n",
              "  <thead>\n",
              "    <tr style=\"text-align: right;\">\n",
              "      <th></th>\n",
              "      <th>0</th>\n",
              "    </tr>\n",
              "  </thead>\n",
              "  <tbody>\n",
              "    <tr>\n",
              "      <th>source</th>\n",
              "      <td>0</td>\n",
              "    </tr>\n",
              "    <tr>\n",
              "      <th>review_id</th>\n",
              "      <td>0</td>\n",
              "    </tr>\n",
              "    <tr>\n",
              "      <th>user_name</th>\n",
              "      <td>0</td>\n",
              "    </tr>\n",
              "    <tr>\n",
              "      <th>review_title</th>\n",
              "      <td>356807</td>\n",
              "    </tr>\n",
              "    <tr>\n",
              "      <th>review_description</th>\n",
              "      <td>20</td>\n",
              "    </tr>\n",
              "    <tr>\n",
              "      <th>rating</th>\n",
              "      <td>0</td>\n",
              "    </tr>\n",
              "    <tr>\n",
              "      <th>thumbs_up</th>\n",
              "      <td>891</td>\n",
              "    </tr>\n",
              "    <tr>\n",
              "      <th>review_date</th>\n",
              "      <td>0</td>\n",
              "    </tr>\n",
              "    <tr>\n",
              "      <th>developer_response</th>\n",
              "      <td>232929</td>\n",
              "    </tr>\n",
              "    <tr>\n",
              "      <th>developer_response_date</th>\n",
              "      <td>233108</td>\n",
              "    </tr>\n",
              "    <tr>\n",
              "      <th>appVersion</th>\n",
              "      <td>82372</td>\n",
              "    </tr>\n",
              "    <tr>\n",
              "      <th>laguage_code</th>\n",
              "      <td>0</td>\n",
              "    </tr>\n",
              "    <tr>\n",
              "      <th>country_code</th>\n",
              "      <td>0</td>\n",
              "    </tr>\n",
              "  </tbody>\n",
              "</table>\n",
              "</div><br><label><b>dtype:</b> int64</label>"
            ]
          },
          "metadata": {},
          "execution_count": 12
        }
      ]
    },
    {
      "cell_type": "markdown",
      "source": [
        "As we can see that all reviews are in English, this is an important information, later when we will use an Embedding Model."
      ],
      "metadata": {
        "id": "ZY33awTb5k3x"
      }
    },
    {
      "cell_type": "code",
      "source": [
        "ola_df[\"laguage_code\"].value_counts()"
      ],
      "metadata": {
        "colab": {
          "base_uri": "https://localhost:8080/",
          "height": 147
        },
        "id": "NFtdVR8P2AD5",
        "outputId": "deadbfc1-dd4b-4c8a-8de3-388df6f94d09"
      },
      "execution_count": 13,
      "outputs": [
        {
          "output_type": "execute_result",
          "data": {
            "text/plain": [
              "laguage_code\n",
              "en    357698\n",
              "Name: count, dtype: int64"
            ],
            "text/html": [
              "<div>\n",
              "<style scoped>\n",
              "    .dataframe tbody tr th:only-of-type {\n",
              "        vertical-align: middle;\n",
              "    }\n",
              "\n",
              "    .dataframe tbody tr th {\n",
              "        vertical-align: top;\n",
              "    }\n",
              "\n",
              "    .dataframe thead th {\n",
              "        text-align: right;\n",
              "    }\n",
              "</style>\n",
              "<table border=\"1\" class=\"dataframe\">\n",
              "  <thead>\n",
              "    <tr style=\"text-align: right;\">\n",
              "      <th></th>\n",
              "      <th>count</th>\n",
              "    </tr>\n",
              "    <tr>\n",
              "      <th>laguage_code</th>\n",
              "      <th></th>\n",
              "    </tr>\n",
              "  </thead>\n",
              "  <tbody>\n",
              "    <tr>\n",
              "      <th>en</th>\n",
              "      <td>357698</td>\n",
              "    </tr>\n",
              "  </tbody>\n",
              "</table>\n",
              "</div><br><label><b>dtype:</b> int64</label>"
            ]
          },
          "metadata": {},
          "execution_count": 13
        }
      ]
    },
    {
      "cell_type": "code",
      "source": [
        "ola_df[\"rating\"].value_counts()"
      ],
      "metadata": {
        "colab": {
          "base_uri": "https://localhost:8080/",
          "height": 272
        },
        "id": "2sgZI9W73dap",
        "outputId": "33bd7215-672e-4ab7-a8d1-490dffd29425"
      },
      "execution_count": 14,
      "outputs": [
        {
          "output_type": "execute_result",
          "data": {
            "text/plain": [
              "rating\n",
              "1    173200\n",
              "5    127957\n",
              "4     24964\n",
              "3     15991\n",
              "2     15586\n",
              "Name: count, dtype: int64"
            ],
            "text/html": [
              "<div>\n",
              "<style scoped>\n",
              "    .dataframe tbody tr th:only-of-type {\n",
              "        vertical-align: middle;\n",
              "    }\n",
              "\n",
              "    .dataframe tbody tr th {\n",
              "        vertical-align: top;\n",
              "    }\n",
              "\n",
              "    .dataframe thead th {\n",
              "        text-align: right;\n",
              "    }\n",
              "</style>\n",
              "<table border=\"1\" class=\"dataframe\">\n",
              "  <thead>\n",
              "    <tr style=\"text-align: right;\">\n",
              "      <th></th>\n",
              "      <th>count</th>\n",
              "    </tr>\n",
              "    <tr>\n",
              "      <th>rating</th>\n",
              "      <th></th>\n",
              "    </tr>\n",
              "  </thead>\n",
              "  <tbody>\n",
              "    <tr>\n",
              "      <th>1</th>\n",
              "      <td>173200</td>\n",
              "    </tr>\n",
              "    <tr>\n",
              "      <th>5</th>\n",
              "      <td>127957</td>\n",
              "    </tr>\n",
              "    <tr>\n",
              "      <th>4</th>\n",
              "      <td>24964</td>\n",
              "    </tr>\n",
              "    <tr>\n",
              "      <th>3</th>\n",
              "      <td>15991</td>\n",
              "    </tr>\n",
              "    <tr>\n",
              "      <th>2</th>\n",
              "      <td>15586</td>\n",
              "    </tr>\n",
              "  </tbody>\n",
              "</table>\n",
              "</div><br><label><b>dtype:</b> int64</label>"
            ]
          },
          "metadata": {},
          "execution_count": 14
        }
      ]
    },
    {
      "cell_type": "code",
      "source": [
        "ola_df[\"rating\"].value_counts().plot.pie()"
      ],
      "metadata": {
        "colab": {
          "base_uri": "https://localhost:8080/",
          "height": 424
        },
        "id": "d13xGa-_3lv7",
        "outputId": "50e41363-679f-4d28-c2eb-c0207d37d3fd"
      },
      "execution_count": 15,
      "outputs": [
        {
          "output_type": "execute_result",
          "data": {
            "text/plain": [
              "<Axes: ylabel='count'>"
            ]
          },
          "metadata": {},
          "execution_count": 15
        },
        {
          "output_type": "display_data",
          "data": {
            "text/plain": [
              "<Figure size 640x480 with 1 Axes>"
            ],
            "image/png": "[encoded data removed]"
          },
          "metadata": {}
        }
      ]
    },
    {
      "cell_type": "code",
      "source": [
        "app_version = ola_df[\"appVersion\"].value_counts().reset_index()\n",
        "app_version.head(5)"
      ],
      "metadata": {
        "colab": {
          "base_uri": "https://localhost:8080/",
          "height": 206
        },
        "id": "0iRHAIOO6CKq",
        "outputId": "f49df89b-430d-4382-c948-8670eaa5ff40"
      },
      "execution_count": 16,
      "outputs": [
        {
          "output_type": "execute_result",
          "data": {
            "text/plain": [
              "  appVersion  count\n",
              "0      5.5.5   7718\n",
              "1      5.5.1   6445\n",
              "2      5.5.2   5306\n",
              "3      5.6.6   5260\n",
              "4      4.7.8   4684"
            ],
            "text/html": [
              "\n",
              "  <div id=\"df-e7230656-8951-47f8-ac46-38042987c5dc\" class=\"colab-df-container\">\n",
              "    <div>\n",
              "<style scoped>\n",
              "    .dataframe tbody tr th:only-of-type {\n",
              "        vertical-align: middle;\n",
              "    }\n",
              "\n",
              "    .dataframe tbody tr th {\n",
              "        vertical-align: top;\n",
              "    }\n",
              "\n",
              "    .dataframe thead th {\n",
              "        text-align: right;\n",
              "    }\n",
              "</style>\n",
              "<table border=\"1\" class=\"dataframe\">\n",
              "  <thead>\n",
              "    <tr style=\"text-align: right;\">\n",
              "      <th></th>\n",
              "      <th>appVersion</th>\n",
              "      <th>count</th>\n",
              "    </tr>\n",
              "  </thead>\n",
              "  <tbody>\n",
              "    <tr>\n",
              "      <th>0</th>\n",
              "      <td>5.5.5</td>\n",
              "      <td>7718</td>\n",
              "    </tr>\n",
              "    <tr>\n",
              "      <th>1</th>\n",
              "      <td>5.5.1</td>\n",
              "      <td>6445</td>\n",
              "    </tr>\n",
              "    <tr>\n",
              "      <th>2</th>\n",
              "      <td>5.5.2</td>\n",
              "      <td>5306</td>\n",
              "    </tr>\n",
              "    <tr>\n",
              "      <th>3</th>\n",
              "      <td>5.6.6</td>\n",
              "      <td>5260</td>\n",
              "    </tr>\n",
              "    <tr>\n",
              "      <th>4</th>\n",
              "      <td>4.7.8</td>\n",
              "      <td>4684</td>\n",
              "    </tr>\n",
              "  </tbody>\n",
              "</table>\n",
              "</div>\n",
              "    <div class=\"colab-df-buttons\">\n",
              "\n",
              "  <div class=\"colab-df-container\">\n",
              "    <button class=\"colab-df-convert\" onclick=\"convertToInteractive('df-e7230656-8951-47f8-ac46-38042987c5dc')\"\n",
              "            title=\"Convert this dataframe to an interactive table.\"\n",
              "            style=\"display:none;\">\n",
              "\n",
              "  <svg xmlns=\"http://www.w3.org/2000/svg\" height=\"24px\" viewBox=\"0 -960 960 960\">\n",
              "    <path d=\"M120-120v-720h720v720H120Zm60-500h600v-160H180v160Zm220 220h160v-160H400v160Zm0 220h160v-160H400v160ZM180-400h160v-160H180v160Zm440 0h160v-160H620v160ZM180-180h160v-160H180v160Zm440 0h160v-160H620v160Z\"/>\n",
              "  </svg>\n",
              "    </button>\n",
              "\n",
              "  <style>\n",
              "    .colab-df-container {\n",
              "      display:flex;\n",
              "      gap: 12px;\n",
              "    }\n",
              "\n",
              "    .colab-df-convert {\n",
              "      background-color: #E8F0FE;\n",
              "      border: none;\n",
              "      border-radius: 50%;\n",
              "      cursor: pointer;\n",
              "      display: none;\n",
              "      fill: #1967D2;\n",
              "      height: 32px;\n",
              "      padding: 0 0 0 0;\n",
              "      width: 32px;\n",
              "    }\n",
              "\n",
              "    .colab-df-convert:hover {\n",
              "      background-color: #E2EBFA;\n",
              "      box-shadow: 0px 1px 2px rgba(60, 64, 67, 0.3), 0px 1px 3px 1px rgba(60, 64, 67, 0.15);\n",
              "      fill: #174EA6;\n",
              "    }\n",
              "\n",
              "    .colab-df-buttons div {\n",
              "      margin-bottom: 4px;\n",
              "    }\n",
              "\n",
              "    [theme=dark] .colab-df-convert {\n",
              "      background-color: #3B4455;\n",
              "      fill: #D2E3FC;\n",
              "    }\n",
              "\n",
              "    [theme=dark] .colab-df-convert:hover {\n",
              "      background-color: #434B5C;\n",
              "      box-shadow: 0px 1px 3px 1px rgba(0, 0, 0, 0.15);\n",
              "      filter: drop-shadow(0px 1px 2px rgba(0, 0, 0, 0.3));\n",
              "      fill: #FFFFFF;\n",
              "    }\n",
              "  </style>\n",
              "\n",
              "    <script>\n",
              "      const buttonEl =\n",
              "        document.querySelector('#df-e7230656-8951-47f8-ac46-38042987c5dc button.colab-df-convert');\n",
              "      buttonEl.style.display =\n",
              "        google.colab.kernel.accessAllowed ? 'block' : 'none';\n",
              "\n",
              "      async function convertToInteractive(key) {\n",
              "        const element = document.querySelector('#df-e7230656-8951-47f8-ac46-38042987c5dc');\n",
              "        const dataTable =\n",
              "          await google.colab.kernel.invokeFunction('convertToInteractive',\n",
              "                                                    [key], {});\n",
              "        if (!dataTable) return;\n",
              "\n",
              "        const docLinkHtml = 'Like what you see? Visit the ' +\n",
              "          '<a target=\"_blank\" href=https://colab.research.google.com/notebooks/data_table.ipynb>data table notebook</a>'\n",
              "          + ' to learn more about interactive tables.';\n",
              "        element.innerHTML = '';\n",
              "        dataTable['output_type'] = 'display_data';\n",
              "        await google.colab.output.renderOutput(dataTable, element);\n",
              "        const docLink = document.createElement('div');\n",
              "        docLink.innerHTML = docLinkHtml;\n",
              "        element.appendChild(docLink);\n",
              "      }\n",
              "    </script>\n",
              "  </div>\n",
              "\n",
              "\n",
              "<div id=\"df-34ebb587-a032-4464-8090-a2e107d7bfb8\">\n",
              "  <button class=\"colab-df-quickchart\" onclick=\"quickchart('df-34ebb587-a032-4464-8090-a2e107d7bfb8')\"\n",
              "            title=\"Suggest charts\"\n",
              "            style=\"display:none;\">\n",
              "\n",
              "<svg xmlns=\"http://www.w3.org/2000/svg\" height=\"24px\"viewBox=\"0 0 24 24\"\n",
              "     width=\"24px\">\n",
              "    <g>\n",
              "        <path d=\"M19 3H5c-1.1 0-2 .9-2 2v14c0 1.1.9 2 2 2h14c1.1 0 2-.9 2-2V5c0-1.1-.9-2-2-2zM9 17H7v-7h2v7zm4 0h-2V7h2v10zm4 0h-2v-4h2v4z\"/>\n",
              "    </g>\n",
              "</svg>\n",
              "  </button>\n",
              "\n",
              "<style>\n",
              "  .colab-df-quickchart {\n",
              "      --bg-color: #E8F0FE;\n",
              "      --fill-color: #1967D2;\n",
              "      --hover-bg-color: #E2EBFA;\n",
              "      --hover-fill-color: #174EA6;\n",
              "      --disabled-fill-color: #AAA;\n",
              "      --disabled-bg-color: #DDD;\n",
              "  }\n",
              "\n",
              "  [theme=dark] .colab-df-quickchart {\n",
              "      --bg-color: #3B4455;\n",
              "      --fill-color: #D2E3FC;\n",
              "      --hover-bg-color: #434B5C;\n",
              "      --hover-fill-color: #FFFFFF;\n",
              "      --disabled-bg-color: #3B4455;\n",
              "      --disabled-fill-color: #666;\n",
              "  }\n",
              "\n",
              "  .colab-df-quickchart {\n",
              "    background-color: var(--bg-color);\n",
              "    border: none;\n",
              "    border-radius: 50%;\n",
              "    cursor: pointer;\n",
              "    display: none;\n",
              "    fill: var(--fill-color);\n",
              "    height: 32px;\n",
              "    padding: 0;\n",
              "    width: 32px;\n",
              "  }\n",
              "\n",
              "  .colab-df-quickchart:hover {\n",
              "    background-color: var(--hover-bg-color);\n",
              "    box-shadow: 0 1px 2px rgba(60, 64, 67, 0.3), 0 1px 3px 1px rgba(60, 64, 67, 0.15);\n",
              "    fill: var(--button-hover-fill-color);\n",
              "  }\n",
              "\n",
              "  .colab-df-quickchart-complete:disabled,\n",
              "  .colab-df-quickchart-complete:disabled:hover {\n",
              "    background-color: var(--disabled-bg-color);\n",
              "    fill: var(--disabled-fill-color);\n",
              "    box-shadow: none;\n",
              "  }\n",
              "\n",
              "  .colab-df-spinner {\n",
              "    border: 2px solid var(--fill-color);\n",
              "    border-color: transparent;\n",
              "    border-bottom-color: var(--fill-color);\n",
              "    animation:\n",
              "      spin 1s steps(1) infinite;\n",
              "  }\n",
              "\n",
              "  @keyframes spin {\n",
              "    0% {\n",
              "      border-color: transparent;\n",
              "      border-bottom-color: var(--fill-color);\n",
              "      border-left-color: var(--fill-color);\n",
              "    }\n",
              "    20% {\n",
              "      border-color: transparent;\n",
              "      border-left-color: var(--fill-color);\n",
              "      border-top-color: var(--fill-color);\n",
              "    }\n",
              "    30% {\n",
              "      border-color: transparent;\n",
              "      border-left-color: var(--fill-color);\n",
              "      border-top-color: var(--fill-color);\n",
              "      border-right-color: var(--fill-color);\n",
              "    }\n",
              "    40% {\n",
              "      border-color: transparent;\n",
              "      border-right-color: var(--fill-color);\n",
              "      border-top-color: var(--fill-color);\n",
              "    }\n",
              "    60% {\n",
              "      border-color: transparent;\n",
              "      border-right-color: var(--fill-color);\n",
              "    }\n",
              "    80% {\n",
              "      border-color: transparent;\n",
              "      border-right-color: var(--fill-color);\n",
              "      border-bottom-color: var(--fill-color);\n",
              "    }\n",
              "    90% {\n",
              "      border-color: transparent;\n",
              "      border-bottom-color: var(--fill-color);\n",
              "    }\n",
              "  }\n",
              "</style>\n",
              "\n",
              "  <script>\n",
              "    async function quickchart(key) {\n",
              "      const quickchartButtonEl =\n",
              "        document.querySelector('#' + key + ' button');\n",
              "      quickchartButtonEl.disabled = true;  // To prevent multiple clicks.\n",
              "      quickchartButtonEl.classList.add('colab-df-spinner');\n",
              "      try {\n",
              "        const charts = await google.colab.kernel.invokeFunction(\n",
              "            'suggestCharts', [key], {});\n",
              "      } catch (error) {\n",
              "        console.error('Error during call to suggestCharts:', error);\n",
              "      }\n",
              "      quickchartButtonEl.classList.remove('colab-df-spinner');\n",
              "      quickchartButtonEl.classList.add('colab-df-quickchart-complete');\n",
              "    }\n",
              "    (() => {\n",
              "      let quickchartButtonEl =\n",
              "        document.querySelector('#df-34ebb587-a032-4464-8090-a2e107d7bfb8 button');\n",
              "      quickchartButtonEl.style.display =\n",
              "        google.colab.kernel.accessAllowed ? 'block' : 'none';\n",
              "    })();\n",
              "  </script>\n",
              "</div>\n",
              "\n",
              "    </div>\n",
              "  </div>\n"
            ],
            "application/vnd.google.colaboratory.intrinsic+json": {
              "type": "dataframe",
              "variable_name": "app_version",
              "summary": "{\n  \"name\": \"app_version\",\n  \"rows\": 224,\n  \"fields\": [\n    {\n      \"column\": \"appVersion\",\n      \"properties\": {\n        \"dtype\": \"string\",\n        \"num_unique_values\": 224,\n        \"samples\": [\n          \"5.7.2\",\n          \"5.0.8\",\n          \"5.2.7\"\n        ],\n        \"semantic_type\": \"\",\n        \"description\": \"\"\n      }\n    },\n    {\n      \"column\": \"count\",\n      \"properties\": {\n        \"dtype\": \"number\",\n        \"std\": 1462,\n        \"min\": 1,\n        \"max\": 7718,\n        \"num_unique_values\": 182,\n        \"samples\": [\n          3625,\n          2405,\n          35\n        ],\n        \"semantic_type\": \"\",\n        \"description\": \"\"\n      }\n    }\n  ]\n}"
            }
          },
          "metadata": {},
          "execution_count": 16
        }
      ]
    },
    {
      "cell_type": "markdown",
      "source": [
        "### 2.2 Keep importants Features"
      ],
      "metadata": {
        "id": "unblbv1n_BNa"
      }
    },
    {
      "cell_type": "code",
      "source": [
        "ola_df.columns"
      ],
      "metadata": {
        "colab": {
          "base_uri": "https://localhost:8080/"
        },
        "id": "aV-4BlgM_RnA",
        "outputId": "525b2c92-6d64-4b43-89a8-9db2c6eb085c"
      },
      "execution_count": 17,
      "outputs": [
        {
          "output_type": "execute_result",
          "data": {
            "text/plain": [
              "Index(['source', 'review_id', 'user_name', 'review_title',\n",
              "       'review_description', 'rating', 'thumbs_up', 'review_date',\n",
              "       'developer_response', 'developer_response_date', 'appVersion',\n",
              "       'laguage_code', 'country_code'],\n",
              "      dtype='object')"
            ]
          },
          "metadata": {},
          "execution_count": 17
        }
      ]
    },
    {
      "cell_type": "code",
      "source": [
        "keep_cols = [\"review_description\", \"rating\", \"review_date\"]"
      ],
      "metadata": {
        "id": "b8NfTjUc_OUd"
      },
      "execution_count": 18,
      "outputs": []
    },
    {
      "cell_type": "code",
      "source": [
        "data = ola_df.loc[:, keep_cols]"
      ],
      "metadata": {
        "id": "NXUFg1pa_fmu"
      },
      "execution_count": 19,
      "outputs": []
    },
    {
      "cell_type": "code",
      "source": [
        "data.head(10)"
      ],
      "metadata": {
        "colab": {
          "base_uri": "https://localhost:8080/",
          "height": 363
        },
        "id": "Tj3nPqXe_k1q",
        "outputId": "821cc99a-d30c-47fd-f018-902cbdbbd7e0"
      },
      "execution_count": 20,
      "outputs": [
        {
          "output_type": "execute_result",
          "data": {
            "text/plain": [
              "                                  review_description  rating  \\\n",
              "0  The map in Ola is so messed up, i have to pay ...       1   \n",
              "1                            Deepak Kumar.... 🙏🙏🙏🙏🙏]       5   \n",
              "2  Such aa irresponsible app more then I waiting ...       1   \n",
              "3                                              Worst       1   \n",
              "4  Too much expensive .. try UBer... They are pro...       1   \n",
              "5  Ola drivers demanding extra money for ride.......       2   \n",
              "6  Pathetic service. No option to contact with th...       1   \n",
              "7  No proper support from OLA. Simply asking us t...       1   \n",
              "8  Fraud app ,everytime the estimated fare and fi...       1   \n",
              "9  The driver doesn't pick the phone and they are...       1   \n",
              "\n",
              "           review_date  \n",
              "0  2023-08-10 16:40:50  \n",
              "1  2023-08-10 16:36:14  \n",
              "2  2023-08-10 16:29:31  \n",
              "3  2023-08-10 15:52:06  \n",
              "4  2023-08-10 15:51:10  \n",
              "5  2023-08-10 15:46:30  \n",
              "6  2023-08-10 15:14:25  \n",
              "7  2023-08-10 15:03:45  \n",
              "8  2023-08-10 14:54:47  \n",
              "9  2023-08-10 14:31:49  "
            ],
            "text/html": [
              "\n",
              "  <div id=\"df-17350541-245a-4051-a5a6-e6580d7500d1\" class=\"colab-df-container\">\n",
              "    <div>\n",
              "<style scoped>\n",
              "    .dataframe tbody tr th:only-of-type {\n",
              "        vertical-align: middle;\n",
              "    }\n",
              "\n",
              "    .dataframe tbody tr th {\n",
              "        vertical-align: top;\n",
              "    }\n",
              "\n",
              "    .dataframe thead th {\n",
              "        text-align: right;\n",
              "    }\n",
              "</style>\n",
              "<table border=\"1\" class=\"dataframe\">\n",
              "  <thead>\n",
              "    <tr style=\"text-align: right;\">\n",
              "      <th></th>\n",
              "      <th>review_description</th>\n",
              "      <th>rating</th>\n",
              "      <th>review_date</th>\n",
              "    </tr>\n",
              "  </thead>\n",
              "  <tbody>\n",
              "    <tr>\n",
              "      <th>0</th>\n",
              "      <td>The map in Ola is so messed up, i have to pay ...</td>\n",
              "      <td>1</td>\n",
              "      <td>2023-08-10 16:40:50</td>\n",
              "    </tr>\n",
              "    <tr>\n",
              "      <th>1</th>\n",
              "      <td>Deepak Kumar.... 🙏🙏🙏🙏🙏]</td>\n",
              "      <td>5</td>\n",
              "      <td>2023-08-10 16:36:14</td>\n",
              "    </tr>\n",
              "    <tr>\n",
              "      <th>2</th>\n",
              "      <td>Such aa irresponsible app more then I waiting ...</td>\n",
              "      <td>1</td>\n",
              "      <td>2023-08-10 16:29:31</td>\n",
              "    </tr>\n",
              "    <tr>\n",
              "      <th>3</th>\n",
              "      <td>Worst</td>\n",
              "      <td>1</td>\n",
              "      <td>2023-08-10 15:52:06</td>\n",
              "    </tr>\n",
              "    <tr>\n",
              "      <th>4</th>\n",
              "      <td>Too much expensive .. try UBer... They are pro...</td>\n",
              "      <td>1</td>\n",
              "      <td>2023-08-10 15:51:10</td>\n",
              "    </tr>\n",
              "    <tr>\n",
              "      <th>5</th>\n",
              "      <td>Ola drivers demanding extra money for ride.......</td>\n",
              "      <td>2</td>\n",
              "      <td>2023-08-10 15:46:30</td>\n",
              "    </tr>\n",
              "    <tr>\n",
              "      <th>6</th>\n",
              "      <td>Pathetic service. No option to contact with th...</td>\n",
              "      <td>1</td>\n",
              "      <td>2023-08-10 15:14:25</td>\n",
              "    </tr>\n",
              "    <tr>\n",
              "      <th>7</th>\n",
              "      <td>No proper support from OLA. Simply asking us t...</td>\n",
              "      <td>1</td>\n",
              "      <td>2023-08-10 15:03:45</td>\n",
              "    </tr>\n",
              "    <tr>\n",
              "      <th>8</th>\n",
              "      <td>Fraud app ,everytime the estimated fare and fi...</td>\n",
              "      <td>1</td>\n",
              "      <td>2023-08-10 14:54:47</td>\n",
              "    </tr>\n",
              "    <tr>\n",
              "      <th>9</th>\n",
              "      <td>The driver doesn't pick the phone and they are...</td>\n",
              "      <td>1</td>\n",
              "      <td>2023-08-10 14:31:49</td>\n",
              "    </tr>\n",
              "  </tbody>\n",
              "</table>\n",
              "</div>\n",
              "    <div class=\"colab-df-buttons\">\n",
              "\n",
              "  <div class=\"colab-df-container\">\n",
              "    <button class=\"colab-df-convert\" onclick=\"convertToInteractive('df-17350541-245a-4051-a5a6-e6580d7500d1')\"\n",
              "            title=\"Convert this dataframe to an interactive table.\"\n",
              "            style=\"display:none;\">\n",
              "\n",
              "  <svg xmlns=\"http://www.w3.org/2000/svg\" height=\"24px\" viewBox=\"0 -960 960 960\">\n",
              "    <path d=\"M120-120v-720h720v720H120Zm60-500h600v-160H180v160Zm220 220h160v-160H400v160Zm0 220h160v-160H400v160ZM180-400h160v-160H180v160Zm440 0h160v-160H620v160ZM180-180h160v-160H180v160Zm440 0h160v-160H620v160Z\"/>\n",
              "  </svg>\n",
              "    </button>\n",
              "\n",
              "  <style>\n",
              "    .colab-df-container {\n",
              "      display:flex;\n",
              "      gap: 12px;\n",
              "    }\n",
              "\n",
              "    .colab-df-convert {\n",
              "      background-color: #E8F0FE;\n",
              "      border: none;\n",
              "      border-radius: 50%;\n",
              "      cursor: pointer;\n",
              "      display: none;\n",
              "      fill: #1967D2;\n",
              "      height: 32px;\n",
              "      padding: 0 0 0 0;\n",
              "      width: 32px;\n",
              "    }\n",
              "\n",
              "    .colab-df-convert:hover {\n",
              "      background-color: #E2EBFA;\n",
              "      box-shadow: 0px 1px 2px rgba(60, 64, 67, 0.3), 0px 1px 3px 1px rgba(60, 64, 67, 0.15);\n",
              "      fill: #174EA6;\n",
              "    }\n",
              "\n",
              "    .colab-df-buttons div {\n",
              "      margin-bottom: 4px;\n",
              "    }\n",
              "\n",
              "    [theme=dark] .colab-df-convert {\n",
              "      background-color: #3B4455;\n",
              "      fill: #D2E3FC;\n",
              "    }\n",
              "\n",
              "    [theme=dark] .colab-df-convert:hover {\n",
              "      background-color: #434B5C;\n",
              "      box-shadow: 0px 1px 3px 1px rgba(0, 0, 0, 0.15);\n",
              "      filter: drop-shadow(0px 1px 2px rgba(0, 0, 0, 0.3));\n",
              "      fill: #FFFFFF;\n",
              "    }\n",
              "  </style>\n",
              "\n",
              "    <script>\n",
              "      const buttonEl =\n",
              "        document.querySelector('#df-17350541-245a-4051-a5a6-e6580d7500d1 button.colab-df-convert');\n",
              "      buttonEl.style.display =\n",
              "        google.colab.kernel.accessAllowed ? 'block' : 'none';\n",
              "\n",
              "      async function convertToInteractive(key) {\n",
              "        const element = document.querySelector('#df-17350541-245a-4051-a5a6-e6580d7500d1');\n",
              "        const dataTable =\n",
              "          await google.colab.kernel.invokeFunction('convertToInteractive',\n",
              "                                                    [key], {});\n",
              "        if (!dataTable) return;\n",
              "\n",
              "        const docLinkHtml = 'Like what you see? Visit the ' +\n",
              "          '<a target=\"_blank\" href=https://colab.research.google.com/notebooks/data_table.ipynb>data table notebook</a>'\n",
              "          + ' to learn more about interactive tables.';\n",
              "        element.innerHTML = '';\n",
              "        dataTable['output_type'] = 'display_data';\n",
              "        await google.colab.output.renderOutput(dataTable, element);\n",
              "        const docLink = document.createElement('div');\n",
              "        docLink.innerHTML = docLinkHtml;\n",
              "        element.appendChild(docLink);\n",
              "      }\n",
              "    </script>\n",
              "  </div>\n",
              "\n",
              "\n",
              "<div id=\"df-df94c1d2-88c6-412c-8a52-1e47b9833401\">\n",
              "  <button class=\"colab-df-quickchart\" onclick=\"quickchart('df-df94c1d2-88c6-412c-8a52-1e47b9833401')\"\n",
              "            title=\"Suggest charts\"\n",
              "            style=\"display:none;\">\n",
              "\n",
              "<svg xmlns=\"http://www.w3.org/2000/svg\" height=\"24px\"viewBox=\"0 0 24 24\"\n",
              "     width=\"24px\">\n",
              "    <g>\n",
              "        <path d=\"M19 3H5c-1.1 0-2 .9-2 2v14c0 1.1.9 2 2 2h14c1.1 0 2-.9 2-2V5c0-1.1-.9-2-2-2zM9 17H7v-7h2v7zm4 0h-2V7h2v10zm4 0h-2v-4h2v4z\"/>\n",
              "    </g>\n",
              "</svg>\n",
              "  </button>\n",
              "\n",
              "<style>\n",
              "  .colab-df-quickchart {\n",
              "      --bg-color: #E8F0FE;\n",
              "      --fill-color: #1967D2;\n",
              "      --hover-bg-color: #E2EBFA;\n",
              "      --hover-fill-color: #174EA6;\n",
              "      --disabled-fill-color: #AAA;\n",
              "      --disabled-bg-color: #DDD;\n",
              "  }\n",
              "\n",
              "  [theme=dark] .colab-df-quickchart {\n",
              "      --bg-color: #3B4455;\n",
              "      --fill-color: #D2E3FC;\n",
              "      --hover-bg-color: #434B5C;\n",
              "      --hover-fill-color: #FFFFFF;\n",
              "      --disabled-bg-color: #3B4455;\n",
              "      --disabled-fill-color: #666;\n",
              "  }\n",
              "\n",
              "  .colab-df-quickchart {\n",
              "    background-color: var(--bg-color);\n",
              "    border: none;\n",
              "    border-radius: 50%;\n",
              "    cursor: pointer;\n",
              "    display: none;\n",
              "    fill: var(--fill-color);\n",
              "    height: 32px;\n",
              "    padding: 0;\n",
              "    width: 32px;\n",
              "  }\n",
              "\n",
              "  .colab-df-quickchart:hover {\n",
              "    background-color: var(--hover-bg-color);\n",
              "    box-shadow: 0 1px 2px rgba(60, 64, 67, 0.3), 0 1px 3px 1px rgba(60, 64, 67, 0.15);\n",
              "    fill: var(--button-hover-fill-color);\n",
              "  }\n",
              "\n",
              "  .colab-df-quickchart-complete:disabled,\n",
              "  .colab-df-quickchart-complete:disabled:hover {\n",
              "    background-color: var(--disabled-bg-color);\n",
              "    fill: var(--disabled-fill-color);\n",
              "    box-shadow: none;\n",
              "  }\n",
              "\n",
              "  .colab-df-spinner {\n",
              "    border: 2px solid var(--fill-color);\n",
              "    border-color: transparent;\n",
              "    border-bottom-color: var(--fill-color);\n",
              "    animation:\n",
              "      spin 1s steps(1) infinite;\n",
              "  }\n",
              "\n",
              "  @keyframes spin {\n",
              "    0% {\n",
              "      border-color: transparent;\n",
              "      border-bottom-color: var(--fill-color);\n",
              "      border-left-color: var(--fill-color);\n",
              "    }\n",
              "    20% {\n",
              "      border-color: transparent;\n",
              "      border-left-color: var(--fill-color);\n",
              "      border-top-color: var(--fill-color);\n",
              "    }\n",
              "    30% {\n",
              "      border-color: transparent;\n",
              "      border-left-color: var(--fill-color);\n",
              "      border-top-color: var(--fill-color);\n",
              "      border-right-color: var(--fill-color);\n",
              "    }\n",
              "    40% {\n",
              "      border-color: transparent;\n",
              "      border-right-color: var(--fill-color);\n",
              "      border-top-color: var(--fill-color);\n",
              "    }\n",
              "    60% {\n",
              "      border-color: transparent;\n",
              "      border-right-color: var(--fill-color);\n",
              "    }\n",
              "    80% {\n",
              "      border-color: transparent;\n",
              "      border-right-color: var(--fill-color);\n",
              "      border-bottom-color: var(--fill-color);\n",
              "    }\n",
              "    90% {\n",
              "      border-color: transparent;\n",
              "      border-bottom-color: var(--fill-color);\n",
              "    }\n",
              "  }\n",
              "</style>\n",
              "\n",
              "  <script>\n",
              "    async function quickchart(key) {\n",
              "      const quickchartButtonEl =\n",
              "        document.querySelector('#' + key + ' button');\n",
              "      quickchartButtonEl.disabled = true;  // To prevent multiple clicks.\n",
              "      quickchartButtonEl.classList.add('colab-df-spinner');\n",
              "      try {\n",
              "        const charts = await google.colab.kernel.invokeFunction(\n",
              "            'suggestCharts', [key], {});\n",
              "      } catch (error) {\n",
              "        console.error('Error during call to suggestCharts:', error);\n",
              "      }\n",
              "      quickchartButtonEl.classList.remove('colab-df-spinner');\n",
              "      quickchartButtonEl.classList.add('colab-df-quickchart-complete');\n",
              "    }\n",
              "    (() => {\n",
              "      let quickchartButtonEl =\n",
              "        document.querySelector('#df-df94c1d2-88c6-412c-8a52-1e47b9833401 button');\n",
              "      quickchartButtonEl.style.display =\n",
              "        google.colab.kernel.accessAllowed ? 'block' : 'none';\n",
              "    })();\n",
              "  </script>\n",
              "</div>\n",
              "\n",
              "    </div>\n",
              "  </div>\n"
            ],
            "application/vnd.google.colaboratory.intrinsic+json": {
              "type": "dataframe",
              "variable_name": "data"
            }
          },
          "metadata": {},
          "execution_count": 20
        }
      ]
    },
    {
      "cell_type": "markdown",
      "source": [
        "### 2.3 Remove Missing values"
      ],
      "metadata": {
        "id": "7jzy1lPL-17r"
      }
    },
    {
      "cell_type": "code",
      "source": [
        "data.isna().sum()"
      ],
      "metadata": {
        "colab": {
          "base_uri": "https://localhost:8080/",
          "height": 178
        },
        "id": "Rh_WNKCg7hQ3",
        "outputId": "d7432320-9b7e-4653-d2f7-c2a73f3536d6"
      },
      "execution_count": 21,
      "outputs": [
        {
          "output_type": "execute_result",
          "data": {
            "text/plain": [
              "review_description    20\n",
              "rating                 0\n",
              "review_date            0\n",
              "dtype: int64"
            ],
            "text/html": [
              "<div>\n",
              "<style scoped>\n",
              "    .dataframe tbody tr th:only-of-type {\n",
              "        vertical-align: middle;\n",
              "    }\n",
              "\n",
              "    .dataframe tbody tr th {\n",
              "        vertical-align: top;\n",
              "    }\n",
              "\n",
              "    .dataframe thead th {\n",
              "        text-align: right;\n",
              "    }\n",
              "</style>\n",
              "<table border=\"1\" class=\"dataframe\">\n",
              "  <thead>\n",
              "    <tr style=\"text-align: right;\">\n",
              "      <th></th>\n",
              "      <th>0</th>\n",
              "    </tr>\n",
              "  </thead>\n",
              "  <tbody>\n",
              "    <tr>\n",
              "      <th>review_description</th>\n",
              "      <td>20</td>\n",
              "    </tr>\n",
              "    <tr>\n",
              "      <th>rating</th>\n",
              "      <td>0</td>\n",
              "    </tr>\n",
              "    <tr>\n",
              "      <th>review_date</th>\n",
              "      <td>0</td>\n",
              "    </tr>\n",
              "  </tbody>\n",
              "</table>\n",
              "</div><br><label><b>dtype:</b> int64</label>"
            ]
          },
          "metadata": {},
          "execution_count": 21
        }
      ]
    },
    {
      "cell_type": "code",
      "source": [
        "data = data.dropna(subset=[\"review_description\"])"
      ],
      "metadata": {
        "id": "ZDjFTZTq_tSl"
      },
      "execution_count": 22,
      "outputs": []
    },
    {
      "cell_type": "markdown",
      "source": [
        "### 2.4 Review Text Processing"
      ],
      "metadata": {
        "id": "Qnduv0hiAKj4"
      }
    },
    {
      "cell_type": "code",
      "source": [
        "def preprocess_text(text):\n",
        "    # Convert to lowercase\n",
        "    text = tf.strings.lower(text)\n",
        "\n",
        "    # Remove HTML tags\n",
        "    text = tf.strings.regex_replace(text, r'<.*?>', '')\n",
        "\n",
        "    # Remove non-alphabet characters\n",
        "    text = tf.strings.regex_replace(text, r'[^a-zA-Z\\s]', '')\n",
        "\n",
        "    # Strip leading and trailing whitespaces\n",
        "    text = tf.strings.strip(text)\n",
        "    return text.numpy().decode('utf-8')"
      ],
      "metadata": {
        "id": "0RTxKilY__xu"
      },
      "execution_count": 23,
      "outputs": []
    },
    {
      "cell_type": "code",
      "source": [
        "data[\"cleaned_review\"] = data[\"review_description\"].apply(lambda x: preprocess_text(tf.convert_to_tensor(x)))"
      ],
      "metadata": {
        "id": "hYQOZUB2Auth"
      },
      "execution_count": 24,
      "outputs": []
    },
    {
      "cell_type": "code",
      "source": [
        "data[\"review_length\"] = data[\"cleaned_review\"].apply(lambda x: len(tuple(x)))"
      ],
      "metadata": {
        "id": "NvH-f8AeBzih"
      },
      "execution_count": 25,
      "outputs": []
    },
    {
      "cell_type": "code",
      "source": [
        "data.info()"
      ],
      "metadata": {
        "colab": {
          "base_uri": "https://localhost:8080/"
        },
        "id": "OTR80e-KCOBl",
        "outputId": "78badf54-c432-4e11-9643-405cac244f14"
      },
      "execution_count": 26,
      "outputs": [
        {
          "output_type": "stream",
          "name": "stdout",
          "text": [
            "<class 'pandas.core.frame.DataFrame'>\n",
            "Index: 357678 entries, 0 to 357697\n",
            "Data columns (total 5 columns):\n",
            " #   Column              Non-Null Count   Dtype \n",
            "---  ------              --------------   ----- \n",
            " 0   review_description  357678 non-null  object\n",
            " 1   rating              357678 non-null  int64 \n",
            " 2   review_date         357678 non-null  object\n",
            " 3   cleaned_review      357678 non-null  object\n",
            " 4   review_length       357678 non-null  int64 \n",
            "dtypes: int64(2), object(3)\n",
            "memory usage: 16.4+ MB\n"
          ]
        }
      ]
    },
    {
      "cell_type": "code",
      "source": [
        "data[\"review_length\"].describe()"
      ],
      "metadata": {
        "colab": {
          "base_uri": "https://localhost:8080/",
          "height": 335
        },
        "id": "LyTMKAGHCPIJ",
        "outputId": "4f292a66-0a07-4c7d-85fa-52472b962d3c"
      },
      "execution_count": 27,
      "outputs": [
        {
          "output_type": "execute_result",
          "data": {
            "text/plain": [
              "count    357678.000000\n",
              "mean         88.819153\n",
              "std         121.153551\n",
              "min           0.000000\n",
              "25%           8.000000\n",
              "50%          31.000000\n",
              "75%         126.000000\n",
              "max        2791.000000\n",
              "Name: review_length, dtype: float64"
            ],
            "text/html": [
              "<div>\n",
              "<style scoped>\n",
              "    .dataframe tbody tr th:only-of-type {\n",
              "        vertical-align: middle;\n",
              "    }\n",
              "\n",
              "    .dataframe tbody tr th {\n",
              "        vertical-align: top;\n",
              "    }\n",
              "\n",
              "    .dataframe thead th {\n",
              "        text-align: right;\n",
              "    }\n",
              "</style>\n",
              "<table border=\"1\" class=\"dataframe\">\n",
              "  <thead>\n",
              "    <tr style=\"text-align: right;\">\n",
              "      <th></th>\n",
              "      <th>review_length</th>\n",
              "    </tr>\n",
              "  </thead>\n",
              "  <tbody>\n",
              "    <tr>\n",
              "      <th>count</th>\n",
              "      <td>357678.000000</td>\n",
              "    </tr>\n",
              "    <tr>\n",
              "      <th>mean</th>\n",
              "      <td>88.819153</td>\n",
              "    </tr>\n",
              "    <tr>\n",
              "      <th>std</th>\n",
              "      <td>121.153551</td>\n",
              "    </tr>\n",
              "    <tr>\n",
              "      <th>min</th>\n",
              "      <td>0.000000</td>\n",
              "    </tr>\n",
              "    <tr>\n",
              "      <th>25%</th>\n",
              "      <td>8.000000</td>\n",
              "    </tr>\n",
              "    <tr>\n",
              "      <th>50%</th>\n",
              "      <td>31.000000</td>\n",
              "    </tr>\n",
              "    <tr>\n",
              "      <th>75%</th>\n",
              "      <td>126.000000</td>\n",
              "    </tr>\n",
              "    <tr>\n",
              "      <th>max</th>\n",
              "      <td>2791.000000</td>\n",
              "    </tr>\n",
              "  </tbody>\n",
              "</table>\n",
              "</div><br><label><b>dtype:</b> float64</label>"
            ]
          },
          "metadata": {},
          "execution_count": 27
        }
      ]
    },
    {
      "cell_type": "code",
      "source": [
        "sns.histplot(data[\"review_length\"], bins=100)"
      ],
      "metadata": {
        "colab": {
          "base_uri": "https://localhost:8080/",
          "height": 468
        },
        "id": "YlygaE852OEs",
        "outputId": "6491f650-0ef5-4a3d-8cea-072e264fb2d4"
      },
      "execution_count": 28,
      "outputs": [
        {
          "output_type": "execute_result",
          "data": {
            "text/plain": [
              "<Axes: xlabel='review_length', ylabel='Count'>"
            ]
          },
          "metadata": {},
          "execution_count": 28
        },
        {
          "output_type": "display_data",
          "data": {
            "text/plain": [
              "<Figure size 640x480 with 1 Axes>"
            ],
            "image/png": "[encoded data removed]"
          },
          "metadata": {}
        }
      ]
    },
    {
      "cell_type": "markdown",
      "source": [
        "![image.png](data:image/png;base64,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)"
      ],
      "metadata": {
        "id": "NLaffI_uFa_8"
      }
    },
    {
      "cell_type": "markdown",
      "source": [
        "The figure above gives that average word in english is 5 characters. we choose that we keep 5x words for each review. from the review length distribution we can see that the length the most review are less than 500."
      ],
      "metadata": {
        "id": "2QzahsrdHKuC"
      }
    },
    {
      "cell_type": "code",
      "source": [
        "data = data[(data[\"review_length\"] >= 25) & (data[\"review_length\"] <= 500)]"
      ],
      "metadata": {
        "id": "KOXG9AIYCPWb"
      },
      "execution_count": 29,
      "outputs": []
    },
    {
      "cell_type": "code",
      "source": [
        "sns.histplot(data[\"review_length\"], bins=100)"
      ],
      "metadata": {
        "colab": {
          "base_uri": "https://localhost:8080/",
          "height": 468
        },
        "id": "ODyuN6UCCuVM",
        "outputId": "43bb1f85-5f0e-41f6-c013-b04bd34c3aee"
      },
      "execution_count": 30,
      "outputs": [
        {
          "output_type": "execute_result",
          "data": {
            "text/plain": [
              "<Axes: xlabel='review_length', ylabel='Count'>"
            ]
          },
          "metadata": {},
          "execution_count": 30
        },
        {
          "output_type": "display_data",
          "data": {
            "text/plain": [
              "<Figure size 640x480 with 1 Axes>"
            ],
            "image/png": "[encoded data removed]"
          },
          "metadata": {}
        }
      ]
    },
    {
      "cell_type": "code",
      "source": [
        "!pip install bertopic"
      ],
      "metadata": {
        "id": "R4UlYt1nUWxs"
      },
      "execution_count": null,
      "outputs": []
    },
    {
      "cell_type": "code",
      "source": [
        "from bertopic import BERTopic"
      ],
      "metadata": {
        "id": "E65h8K1-VaJ1"
      },
      "execution_count": 32,
      "outputs": []
    },
    {
      "cell_type": "code",
      "source": [
        "bert_model = BERTopic(language=\"english\", calculate_probabilities=True, verbose=True)"
      ],
      "metadata": {
        "id": "r-MdzPAJVJiy"
      },
      "execution_count": 36,
      "outputs": []
    },
    {
      "cell_type": "code",
      "source": [
        "bert_model"
      ],
      "metadata": {
        "colab": {
          "base_uri": "https://localhost:8080/"
        },
        "id": "Gro5oRahVfZC",
        "outputId": "9468284e-0bc0-4eb0-8163-a4ba050cf286"
      },
      "execution_count": 37,
      "outputs": [
        {
          "output_type": "execute_result",
          "data": {
            "text/plain": [
              "<bertopic._bertopic.BERTopic at 0x7bf393fbe350>"
            ]
          },
          "metadata": {},
          "execution_count": 37
        }
      ]
    },
    {
      "cell_type": "code",
      "source": [
        "topics, probs = bert_model.fit(data[\"cleaned_review\"])"
      ],
      "metadata": {
        "colab": {
          "base_uri": "https://localhost:8080/",
          "height": 330,
          "referenced_widgets": [
            "bad64962c2484913aa335541f60691c0",
            "bdf94e8d10864bd687dce27669b4baf0",
            "c61c316e48f64829a60dbdf68bae783f",
            "c9c0eb72c54a48c0b5b4e75860a2d220",
            "87c025e1cb6f4c40b750018e43c9cdb3",
            "f34a00d463de4a869c551b601f07edb9",
            "90409dd71d9c431983705ebfb5f31bdb",
            "42a42ed669c8432b938718bd974aa51e",
            "8a05bfe54fac47a2b6c521e5a3a95a88",
            "6d874f02bb1948d088439fedb88cdfb8",
            "3213088f306440a496a1d13654a43353",
            "0a7c1cd78aab46c09e2e4cd6c8dca4bd",
            "758bf0d101a3470f830fb4c3cf15dfe4",
            "88f89442e65f4d28bbc58c5edc50c150",
            "a14f05452ec349ceb36e09ad1bdf2a3e",
            "109b84b9a4594f7a84e66253c68ddeed",
            "989ce8b3d74a401ebbba4a5abce0403e",
            "b217dc6eb59847f78528670c597e5cb2",
            "78037ab4f5b04228bf7ea0cae012cd76",
            "1fb81695629a4be2860a07506c0e951a",
            "ac35e6d3a8654a1795d40fe78bbe080b",
            "35c1558cae6f464fb116dbd2bd6a9488",
            "95b4b3bdc9284e7ea8694e88250b4ce8",
            "887c259264854f718e5ddcfd856a08ae",
            "01d856f6e68f4854837397dcf96dc965",
            "3782dc23a38e49f3b782e8ebe326b1f5",
            "998c5a95e987417d9688ca09ef0f984e",
            "a30778e3e1b4470f88093ec8600f7af1",
            "c0e28a04323541d4987e91d41635444d",
            "2c1ca43257c54d2e92beefaf5ee0a13b",
            "42565566f63141549e778907fc47a9c6",
            "20f0d718ad3a400a9f9003fe714b1088",
            "d65c914fe4674eef9be5576b2ded74cd",
            "271da0242f49409fae7f79f24cb8a5a8",
            "b8e3d385afd24e389369d2645fea38c0",
            "4742bd2a5b8e468da1d506729849379e",
            "9b3b91c49b9b4bda9e21a4d88f25aa18",
            "5bfdb3d3dffe42eb9f53655261fc52d5",
            "e764a92f371549d6ac1f4344d825f851",
            "50e46e9a56074ba48355f1b8e124f53f",
            "28156d188b334fe4b6115733c3e15e61",
            "eb2ba2367def4df2a840c263f530373d",
            "0ac105309d264dfd9ffad96f0b9fb810",
            "02bb2d7d60aa4108b83b778b600fe1dd",
            "fef306f5c0ac407ab12eb38301a943c0",
            "ead766507f164473a61665b672b6e4e9",
            "42c095e43e8946b08d3ba05f7edf7486",
            "6f6e84976f1e43f8bca2e6c95a1fdcaa",
            "6f918051110c47f78086e37824d217fa",
            "e415500d2aaa48999d1de3eda056391c",
            "5283309eb3144705a627dde78a4efeb8",
            "3fafefbcc0d748af88cdfa1ec17ec826",
            "bb02cf11be0b4c13909cd0fa9dce3c32",
            "4cad8738ff5449928b23cd06964e8c80",
            "0b97d231daad4480ad1e5f0c49da095b",
            "77fa3b3c10884b8eb55d8772c18b1bf8",
            "ad6506a2ad63423fb94521a8db750c0f",
            "245c0f4ff49b4087861af9ce1e50a94b",
            "6471834f0c6c4ac4a1e57ada927bf743",
            "6cf3cd711f49455783754fec3bd0c419",
            "f09b38ba7f5b4fd5bbb744ba3def3c57",
            "9d18c0b3971a4701ba8379f9f3d6a4e1",
            "1d41ea039d684cf2805c026c4fb32a90",
            "51b371d37aba4086a712be136af33cd1",
            "0bb3b5de4ffd4f27bb3e81bc23cc9590",
            "165bbb5ba3fe4762883f58dfc2d9b351",
            "fe2f8d2f460d452fa73fd368fe77af27",
            "73de7ba536cd4467be88495e10eeaf4b",
            "cdc52549332b4678b07cf79c16659671",
            "eb8b94313a39435484f48fc1298cb107",
            "7e24e780662d4c07ad3f1f01b3aa5e73",
            "e0ea45fcf52140aca19c3241e6171efe",
            "b953d63458504536836d3f939ed2a5de",
            "203871794e674ce39798f5390c36f6b0",
            "a53febe328084239a0d48c8aa73beeb6",
            "bfdea896d49b49f3acb5f86970086123",
            "93323727ff454164a435a43e9cac6cef"
          ]
        },
        "id": "u70PCiL4Wdh_",
        "outputId": "bb5db1b5-47f0-4864-dc18-3e0eabbcaffe"
      },
      "execution_count": null,
      "outputs": [
        {
          "metadata": {
            "tags": null
          },
          "name": "stderr",
          "output_type": "stream",
          "text": [
            "2024-10-13 01:05:14,309 - BERTopic - Embedding - Transforming documents to embeddings.\n"
          ]
        },
        {
          "data": {
            "application/vnd.jupyter.widget-view+json": {
              "model_id": "bad64962c2484913aa335541f60691c0",
              "version_major": 2,
              "version_minor": 0
            },
            "text/plain": [
              "model.safetensors:  35%|###4      | 31.5M/90.9M [00:00<?, ?B/s]"
            ]
          },
          "metadata": {},
          "output_type": "display_data"
        },
        {
          "data": {
            "application/vnd.jupyter.widget-view+json": {
              "model_id": "0a7c1cd78aab46c09e2e4cd6c8dca4bd",
              "version_major": 2,
              "version_minor": 0
            },
            "text/plain": [
              "tokenizer_config.json:   0%|          | 0.00/350 [00:00<?, ?B/s]"
            ]
          },
          "metadata": {},
          "output_type": "display_data"
        },
        {
          "data": {
            "application/vnd.jupyter.widget-view+json": {
              "model_id": "95b4b3bdc9284e7ea8694e88250b4ce8",
              "version_major": 2,
              "version_minor": 0
            },
            "text/plain": [
              "vocab.txt:   0%|          | 0.00/232k [00:00<?, ?B/s]"
            ]
          },
          "metadata": {},
          "output_type": "display_data"
        },
        {
          "data": {
            "application/vnd.jupyter.widget-view+json": {
              "model_id": "271da0242f49409fae7f79f24cb8a5a8",
              "version_major": 2,
              "version_minor": 0
            },
            "text/plain": [
              "tokenizer.json:   0%|          | 0.00/466k [00:00<?, ?B/s]"
            ]
          },
          "metadata": {},
          "output_type": "display_data"
        },
        {
          "data": {
            "application/vnd.jupyter.widget-view+json": {
              "model_id": "fef306f5c0ac407ab12eb38301a943c0",
              "version_major": 2,
              "version_minor": 0
            },
            "text/plain": [
              "special_tokens_map.json:   0%|          | 0.00/112 [00:00<?, ?B/s]"
            ]
          },
          "metadata": {},
          "output_type": "display_data"
        },
        {
          "data": {
            "application/vnd.jupyter.widget-view+json": {
              "model_id": "77fa3b3c10884b8eb55d8772c18b1bf8",
              "version_major": 2,
              "version_minor": 0
            },
            "text/plain": [
              "1_Pooling/config.json:   0%|          | 0.00/190 [00:00<?, ?B/s]"
            ]
          },
          "metadata": {},
          "output_type": "display_data"
        },
        {
          "data": {
            "application/vnd.jupyter.widget-view+json": {
              "model_id": "fe2f8d2f460d452fa73fd368fe77af27",
              "version_major": 2,
              "version_minor": 0
            },
            "text/plain": [
              "Batches:   0%|          | 0/5990 [00:00<?, ?it/s]"
            ]
          },
          "metadata": {},
          "output_type": "display_data"
        },
        {
          "metadata": {
            "tags": null
          },
          "name": "stderr",
          "output_type": "stream",
          "text": [
            "2024-10-13 01:07:08,741 - BERTopic - Embedding - Completed ✓\n",
            "2024-10-13 01:07:08,744 - BERTopic - Dimensionality - Fitting the dimensionality reduction algorithm\n",
            "2024-10-13 01:12:10,351 - BERTopic - Dimensionality - Completed ✓\n",
            "2024-10-13 01:12:10,357 - BERTopic - Cluster - Start clustering the reduced embeddings\n"
          ]
        }
      ]
    },
    {
      "cell_type": "code",
      "source": [],
      "metadata": {
        "id": "kMqzQB_sZ9fu"
      },
      "execution_count": null,
      "outputs": []
    }
  ]
}